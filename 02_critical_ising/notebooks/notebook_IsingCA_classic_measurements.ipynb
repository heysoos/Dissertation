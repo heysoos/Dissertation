{
 "cells": [
  {
   "cell_type": "code",
   "execution_count": 141,
   "id": "practical-estonia",
   "metadata": {
    "ExecuteTime": {
     "end_time": "2024-05-25T22:48:01.405065200Z",
     "start_time": "2024-05-25T22:48:01.304401400Z"
    }
   },
   "outputs": [
    {
     "name": "stdout",
     "output_type": "stream",
     "text": [
      "The autoreload extension is already loaded. To reload it, use:\n",
      "  %reload_ext autoreload\n"
     ]
    }
   ],
   "source": [
    "%load_ext autoreload\n",
    "%autoreload 2\n",
    "import sys\n",
    "sys.path.append('/Users/Heysoos/Documents/Pycharm Projects/Dissertation/02_critical_ising')\n",
    "\n",
    "import numpy as np\n",
    "import matplotlib.pyplot as plt\n",
    "\n",
    "import torch\n",
    "import torch.nn.functional as F\n",
    "\n",
    "from tqdm import tqdm\n",
    "\n",
    "from models.isingCA_global_xi import isingCA\n",
    "\n",
    "import seaborn as sns\n",
    "from tqdm.auto import tqdm\n",
    "plt.style.use('default') # if it's using the wrong style for some reason"
   ]
  },
  {
   "cell_type": "code",
   "outputs": [
    {
     "name": "stderr",
     "output_type": "stream",
     "text": [
      "C:\\Users\\Heysoos\\AppData\\Local\\Temp\\ipykernel_29080\\3538168403.py:17: MatplotlibDeprecationWarning: Support for setting an rcParam that expects a str value to a non-str value is deprecated since 3.5 and support will be removed two minor releases later.\n",
      "  mpl.rcParams['text.latex.preamble'] = [r'\\usepackage{amsmath}'] #for \\text command\n"
     ]
    }
   ],
   "source": [
    "ft = 10\n",
    "import matplotlib as mpl\n",
    "mpl.style.use('default')\n",
    "\n",
    "# graphical properties\n",
    "plt.rcParams[\"axes.edgecolor\"] = \"k\"\n",
    "plt.rcParams[\"axes.facecolor\"] = \"w\"\n",
    "plt.rcParams[\"axes.linewidth\"] = \"0.8\"\n",
    "plt.rcParams.update({'font.size': ft})\n",
    "plt.rcParams['savefig.dpi'] = 300\n",
    "\n",
    "plt.rcParams['pdf.fonttype'] = 42 # prepare as vector graphic\n",
    "plt.rcParams['ps.fonttype'] = 42\n",
    "\n",
    "plt.rcParams[\"font.family\"] = \"Helvetica\"\n",
    "mpl.rcParams['text.usetex'] = True\n",
    "mpl.rcParams['text.latex.preamble'] = [r'\\usepackage{amsmath}'] #for \\text command"
   ],
   "metadata": {
    "collapsed": false,
    "ExecuteTime": {
     "end_time": "2024-05-25T22:48:01.500749800Z",
     "start_time": "2024-05-25T22:48:01.407058400Z"
    }
   },
   "id": "801c8306967ba9f7",
   "execution_count": 142
  },
  {
   "cell_type": "code",
   "execution_count": 143,
   "id": "saved-bolivia",
   "metadata": {
    "tags": [],
    "ExecuteTime": {
     "end_time": "2024-05-25T22:48:01.594430100Z",
     "start_time": "2024-05-25T22:48:01.500749800Z"
    }
   },
   "outputs": [],
   "source": [
    "# resolution of grid\n",
    "RESX=128\n",
    "RESY=128\n",
    "RES = (RESX, RESY)\n",
    "\n",
    "CHANNELS=1 # number of channels in grid\n",
    "RADIUS=1\n",
    "BETA=1/(RADIUS * RADIUS * CHANNELS)\n",
    "PD=True\n",
    "BS=256\n",
    "\n",
    "ca = isingCA(RES, CHANNELS=CHANNELS, BETA=BETA, RADIUS=RADIUS).cuda()"
   ]
  },
  {
   "cell_type": "code",
   "outputs": [],
   "source": [
    "def get_ising_stats_batch(ca, temp_batch, timesteps, eq_steps, save_every=5, PD=True):\n",
    "    '''\n",
    "    Get the ising statistics for a batch of temperatures\n",
    "    :param ca: Ising CA model\n",
    "    :param temp_batch: the temperatures to get statistics for\n",
    "    :param timesteps: # of timesteps to get statistics for\n",
    "    :param eq_steps: # of equilibration steps\n",
    "    :param save_every: how often to save statistics\n",
    "    :param PD: periodic boundary conditions (true/false)\n",
    "    :return: statistics for the batch of temperatures (Energy (E), Magnetization (M), Specific Heat (C), Susceptibility (X))\n",
    "    '''\n",
    "    \n",
    "     # Initialize states for the current batch\n",
    "    state, obvs = ca.initGrid(BS=len(temp_batch))\n",
    "\n",
    "    # Modify states based on temperature\n",
    "    state[:, -1] = torch.ones_like(state[:, -1]) * (1. / torch.tensor(temp_batch, dtype=state.dtype, device=state.device)).view(-1, 1, 1)\n",
    "    \n",
    "    # initialize spins to be annealed with the relation: m = (3(T - Tc)/Tc) ** 1/2 for T < Tc\n",
    "    for i_temp, temp in enumerate(temp_batch):\n",
    "        if temp < Tc:\n",
    "            thresh = (3*(temp - Tc)/Tc) ** 1/2 \n",
    "            state[i_temp, 0] = (torch.rand_like(state[i_temp, 0]) < thresh) * 2. - 1.\n",
    "    \n",
    "    # time stretching factor for larger networks to let them equilibrate for good statistics\n",
    "    time_scale = np.sqrt(np.product(state.shape[-2])/(8 * 8))\n",
    "    \n",
    "    # equilibrate for a bit\n",
    "    for t in range(int(time_scale * eq_steps)):\n",
    "        state, _ = ca.forward(state, pd=PD)\n",
    "\n",
    "    all_obvs_batch = []\n",
    "    for t in range(int(time_scale * timesteps)):\n",
    "        state, obvs = ca.forward(state, pd=PD)\n",
    "\n",
    "        if t % save_every == 0:\n",
    "            all_obvs_batch.append(obvs.cpu().numpy())\n",
    "\n",
    "    all_obvs_batch = np.stack(all_obvs_batch)\n",
    "    \n",
    "    e_t = all_obvs_batch[:, 0, :]\n",
    "    e2_t = all_obvs_batch[:, 1, :]\n",
    "    m_t = all_obvs_batch[:, 2, :]\n",
    "    m2_t = all_obvs_batch[:, 3, :]\n",
    "\n",
    "    E_t = np.mean(e_t, axis=0)\n",
    "    M_t = np.mean(m_t, axis=0)\n",
    "    C_t = (np.mean(e2_t, axis=0) - np.mean(e_t, axis=0) ** 2) * (1./temp_batch) ** 2\n",
    "    X_t = (np.mean(m2_t, axis=0) - np.mean(m_t, axis=0) ** 2) * (1./temp_batch)\n",
    "\n",
    "    obvs = np.stack([E_t, M_t, C_t, X_t])\n",
    "    return obvs\n",
    "\n",
    "def get_ising_stats_temp(RES, temps, timesteps, eq_steps, num_runs=5, save_every=5, PD=True):\n",
    "    '''\n",
    "    Get the ising statistics for a range of temperatures (uses the batched version of get_ising_stats_batch) to\n",
    "    split the temperatures into batches of size BS\n",
    "    :param ca: Ising CA model\n",
    "    :param temps: the temperatures to get statistics for\n",
    "    :param timesteps: # of timesteps to get statistics for\n",
    "    :param eq_steps: # of equilibration steps\n",
    "    :param num_runs: # of runs to average over\n",
    "    :param save_every: how often to save statistics\n",
    "    :param PD: periodic boundary conditions (true/false)\n",
    "    :return: statistics for the range of temperatures (Energy (E), Magnetization (M), Specific Heat (C), Susceptibility (X)\n",
    "    '''\n",
    "    all_obvs = []\n",
    "    # Iterate over temperature batches\n",
    "    for i in range(0, len(temps), BS):\n",
    "        temp_batch = temps[i:i + BS]\n",
    "        \n",
    "        ca = isingCA(RES, CHANNELS=CHANNELS, BETA=BETA, RADIUS=RADIUS).cuda()\n",
    "        \n",
    "        all_obvs_run = []\n",
    "        for j in tqdm(range(num_runs)):\n",
    "            all_obvs_run.append(get_ising_stats_batch(ca, temp_batch, timesteps, eq_steps, save_every=save_every, PD=PD))\n",
    "        all_obvs.append(np.stack(all_obvs_run))\n",
    "    all_obvs = np.concatenate(all_obvs, axis=-1)\n",
    "    \n",
    "    return all_obvs\n",
    "    "
   ],
   "metadata": {
    "collapsed": false,
    "ExecuteTime": {
     "end_time": "2024-05-25T22:48:01.717020200Z",
     "start_time": "2024-05-25T22:48:01.605393300Z"
    }
   },
   "id": "75c58532cdf6ef07",
   "execution_count": 144
  },
  {
   "cell_type": "code",
   "outputs": [
    {
     "name": "stderr",
     "output_type": "stream",
     "text": [
      " 30%|███       | 3/10 [59:00<2:17:41, 1180.27s/it]\n"
     ]
    },
    {
     "ename": "KeyboardInterrupt",
     "evalue": "",
     "output_type": "error",
     "traceback": [
      "\u001B[1;31m---------------------------------------------------------------------------\u001B[0m",
      "\u001B[1;31mKeyboardInterrupt\u001B[0m                         Traceback (most recent call last)",
      "Cell \u001B[1;32mIn [145], line 12\u001B[0m\n\u001B[0;32m      8\u001B[0m all_obvs \u001B[38;5;241m=\u001B[39m []\n\u001B[0;32m     10\u001B[0m Tc \u001B[38;5;241m=\u001B[39m \u001B[38;5;241m2.26924\u001B[39m\n\u001B[1;32m---> 12\u001B[0m all_obvs \u001B[38;5;241m=\u001B[39m \u001B[43mget_ising_stats_temp\u001B[49m\u001B[43m(\u001B[49m\u001B[43m(\u001B[49m\u001B[43mRESX\u001B[49m\u001B[43m,\u001B[49m\u001B[43m \u001B[49m\u001B[43mRESY\u001B[49m\u001B[43m)\u001B[49m\u001B[43m,\u001B[49m\u001B[43m \u001B[49m\u001B[43mtemps\u001B[49m\u001B[43m,\u001B[49m\u001B[43m \u001B[49m\u001B[43mtimesteps\u001B[49m\u001B[43m,\u001B[49m\u001B[43m \u001B[49m\u001B[43meq_steps\u001B[49m\u001B[43m,\u001B[49m\u001B[43m \u001B[49m\u001B[43mnum_runs\u001B[49m\u001B[38;5;241;43m=\u001B[39;49m\u001B[43mnum_runs\u001B[49m\u001B[43m,\u001B[49m\u001B[43m \u001B[49m\u001B[43msave_every\u001B[49m\u001B[38;5;241;43m=\u001B[39;49m\u001B[43msave_every\u001B[49m\u001B[43m,\u001B[49m\u001B[43m \u001B[49m\u001B[43mPD\u001B[49m\u001B[38;5;241;43m=\u001B[39;49m\u001B[43mPD\u001B[49m\u001B[43m)\u001B[49m\n",
      "Cell \u001B[1;32mIn [144], line 76\u001B[0m, in \u001B[0;36mget_ising_stats_temp\u001B[1;34m(RES, temps, timesteps, eq_steps, num_runs, save_every, PD)\u001B[0m\n\u001B[0;32m     74\u001B[0m     all_obvs_run \u001B[38;5;241m=\u001B[39m []\n\u001B[0;32m     75\u001B[0m     \u001B[38;5;28;01mfor\u001B[39;00m j \u001B[38;5;129;01min\u001B[39;00m tqdm(\u001B[38;5;28mrange\u001B[39m(num_runs)):\n\u001B[1;32m---> 76\u001B[0m         all_obvs_run\u001B[38;5;241m.\u001B[39mappend(\u001B[43mget_ising_stats_batch\u001B[49m\u001B[43m(\u001B[49m\u001B[43mca\u001B[49m\u001B[43m,\u001B[49m\u001B[43m \u001B[49m\u001B[43mtemp_batch\u001B[49m\u001B[43m,\u001B[49m\u001B[43m \u001B[49m\u001B[43mtimesteps\u001B[49m\u001B[43m,\u001B[49m\u001B[43m \u001B[49m\u001B[43meq_steps\u001B[49m\u001B[43m,\u001B[49m\u001B[43m \u001B[49m\u001B[43msave_every\u001B[49m\u001B[38;5;241;43m=\u001B[39;49m\u001B[43msave_every\u001B[49m\u001B[43m,\u001B[49m\u001B[43m \u001B[49m\u001B[43mPD\u001B[49m\u001B[38;5;241;43m=\u001B[39;49m\u001B[43mPD\u001B[49m\u001B[43m)\u001B[49m)\n\u001B[0;32m     77\u001B[0m     all_obvs\u001B[38;5;241m.\u001B[39mappend(np\u001B[38;5;241m.\u001B[39mstack(all_obvs_run))\n\u001B[0;32m     78\u001B[0m all_obvs \u001B[38;5;241m=\u001B[39m np\u001B[38;5;241m.\u001B[39mconcatenate(all_obvs, axis\u001B[38;5;241m=\u001B[39m\u001B[38;5;241m-\u001B[39m\u001B[38;5;241m1\u001B[39m)\n",
      "Cell \u001B[1;32mIn [144], line 37\u001B[0m, in \u001B[0;36mget_ising_stats_batch\u001B[1;34m(ca, temp_batch, timesteps, eq_steps, save_every, PD)\u001B[0m\n\u001B[0;32m     34\u001B[0m     state, obvs \u001B[38;5;241m=\u001B[39m ca\u001B[38;5;241m.\u001B[39mforward(state, pd\u001B[38;5;241m=\u001B[39mPD)\n\u001B[0;32m     36\u001B[0m     \u001B[38;5;28;01mif\u001B[39;00m t \u001B[38;5;241m%\u001B[39m save_every \u001B[38;5;241m==\u001B[39m \u001B[38;5;241m0\u001B[39m:\n\u001B[1;32m---> 37\u001B[0m         all_obvs_batch\u001B[38;5;241m.\u001B[39mappend(\u001B[43mobvs\u001B[49m\u001B[38;5;241;43m.\u001B[39;49m\u001B[43mcpu\u001B[49m\u001B[43m(\u001B[49m\u001B[43m)\u001B[49m\u001B[38;5;241m.\u001B[39mnumpy())\n\u001B[0;32m     39\u001B[0m all_obvs_batch \u001B[38;5;241m=\u001B[39m np\u001B[38;5;241m.\u001B[39mstack(all_obvs_batch)\n\u001B[0;32m     41\u001B[0m e_t \u001B[38;5;241m=\u001B[39m all_obvs_batch[:, \u001B[38;5;241m0\u001B[39m, :]\n",
      "\u001B[1;31mKeyboardInterrupt\u001B[0m: "
     ]
    }
   ],
   "source": [
    "temps = np.geomspace(1.8, 3.5, BS)\n",
    "eq_steps = 2 * 10 ** 3\n",
    "timesteps = 10 ** 5\n",
    "num_runs = 10\n",
    "\n",
    "# stats to save\n",
    "save_every = 10\n",
    "all_obvs = []\n",
    "\n",
    "Tc = 2.26924\n",
    "\n",
    "all_obvs = get_ising_stats_temp((RESX, RESY), temps, timesteps, eq_steps, num_runs=num_runs, save_every=save_every, PD=PD)"
   ],
   "metadata": {
    "collapsed": false,
    "ExecuteTime": {
     "end_time": "2024-05-25T23:47:02.674126Z",
     "start_time": "2024-05-25T22:48:01.717020200Z"
    }
   },
   "id": "6d1546c15fda5733",
   "execution_count": 145
  },
  {
   "cell_type": "code",
   "execution_count": null,
   "outputs": [],
   "source": [
    "fig, axes = plt.subplots(2, 2, figsize=(4.5, 4.5), dpi=120)\n",
    "\n",
    "N = (RESX * RESY)\n",
    "\n",
    "# [num_runs, 4, temperature]\n",
    "E = np.mean(all_obvs[:, 0, :], axis=0)\n",
    "M = np.mean(all_obvs[:, 1, :], axis=0)\n",
    "C = np.mean(all_obvs[:, 2, :], axis=0) / N\n",
    "X = N * np.mean(all_obvs[:, 3, :], axis=0)\n",
    "# C = all_obvs[:, 2, :] / N\n",
    "# X = N * all_obvs[:, 3, :]\n",
    "\n",
    "marker = '-'\n",
    "ms = 1.\n",
    "lw=3\n",
    "alpha = 0.8\n",
    "\n",
    "axes[0, 0].plot(temps, E/N, marker, ms=ms, c='k', alpha=alpha, lw=lw)\n",
    "axes[1, 0].plot(temps, np.abs(M), marker, ms=ms, c='k', alpha=alpha, lw=lw)\n",
    "axes[0, 1].plot(temps, C, marker, ms=ms, c='k', alpha=alpha, lw=lw)\n",
    "axes[1, 1].plot(temps, X, marker, ms=ms, c='k', alpha=alpha, lw=lw)\n",
    "\n",
    "\n",
    "axes[0, 0].set_title(r'$E/N$')\n",
    "axes[1, 0].set_title(r'$M$')\n",
    "axes[0, 1].set_title(r'$C$')\n",
    "axes[1, 1].set_title(r'$\\chi$')\n",
    "\n",
    "data = [E, C, np.abs(M), X]\n",
    "lw = 2\n",
    "for i, ax in enumerate(axes.flatten()):\n",
    "    y_min, y_max = ax.get_ylim()\n",
    "    ax.vlines(Tc, y_min, y_max, 'grey', '--', lw=lw, alpha=0.8, label=rf'$T_c$')\n",
    "    ax.set_xticks(list(ax.get_xticks())[1:-1] + [Tc], minor=True, labels=list(ax.get_xticklabels())[1:-1] + [r'$T_c$'])\n",
    "axes[0, 0].legend(loc='lower right', frameon=False)\n",
    "\n",
    "axes[1, 1].set_yscale('log')\n",
    "\n",
    "plt.tight_layout()\n",
    "plt.savefig('../figures/ising_stats.pdf', bbox_inches='tight')"
   ],
   "metadata": {
    "collapsed": false,
    "ExecuteTime": {
     "start_time": "2024-05-25T23:47:02.679109500Z"
    }
   },
   "id": "393b9cc03bc9a1c9"
  },
  {
   "cell_type": "markdown",
   "source": [
    "### Again for different size networks"
   ],
   "metadata": {
    "collapsed": false
   },
   "id": "a98a2ffba4d092d3"
  },
  {
   "cell_type": "code",
   "outputs": [
    {
     "name": "stdout",
     "output_type": "stream",
     "text": [
      "Starting size = 8\n"
     ]
    },
    {
     "name": "stderr",
     "output_type": "stream",
     "text": [
      "100%|██████████| 10/10 [13:42<00:00, 82.23s/it]\n"
     ]
    },
    {
     "name": "stdout",
     "output_type": "stream",
     "text": [
      "Starting size = 16\n"
     ]
    },
    {
     "name": "stderr",
     "output_type": "stream",
     "text": [
      "100%|██████████| 10/10 [19:37<00:00, 117.72s/it]\n"
     ]
    },
    {
     "name": "stdout",
     "output_type": "stream",
     "text": [
      "Starting size = 32\n"
     ]
    },
    {
     "name": "stderr",
     "output_type": "stream",
     "text": [
      "100%|██████████| 10/10 [35:00<00:00, 210.00s/it]\n"
     ]
    },
    {
     "name": "stdout",
     "output_type": "stream",
     "text": [
      "Starting size = 64\n"
     ]
    },
    {
     "name": "stderr",
     "output_type": "stream",
     "text": [
      " 60%|██████    | 6/10 [3:56:48<2:21:27, 2121.87s/it]"
     ]
    }
   ],
   "source": [
    "# sizes = [2 ** i for i in range(4, 11)]\n",
    "sizes = [8, 16, 32, 64, 128]\n",
    "\n",
    "# if using actual temperature\n",
    "temps = np.geomspace(1.8, 3.5, BS)\n",
    "\n",
    "# if using reduced temperature\n",
    "# exp_nu = 1\n",
    "# reduced_temps = np.linspace(-2, 2, 16*6)\n",
    "\n",
    "# simulation statistics\n",
    "eq_steps = 2 * 10 ** 3\n",
    "timesteps = 10 ** 5\n",
    "num_runs = 10\n",
    "\n",
    "# stats to save\n",
    "save_every = 10\n",
    "all_obvs_multi = []\n",
    "\n",
    "for size in sizes:\n",
    "    print(f'Starting size = {size}')\n",
    "    RES = (size, size)\n",
    "    all_obvs = get_ising_stats_temp((size, size), temps, timesteps, eq_steps, num_runs=num_runs, save_every=save_every, PD=PD)\n",
    "    all_obvs_multi.append(all_obvs)\n",
    "    \n",
    "all_obvs_multi = np.stack(all_obvs_multi)"
   ],
   "metadata": {
    "collapsed": false,
    "is_executing": true,
    "ExecuteTime": {
     "start_time": "2024-05-25T23:47:06.783072300Z"
    }
   },
   "id": "29df6b48530b60f6",
   "execution_count": null
  },
  {
   "cell_type": "code",
   "execution_count": null,
   "outputs": [],
   "source": [
    "fig, axes = plt.subplots(2, 2, figsize=(4.5, 4.5), dpi=300)\n",
    "\n",
    "c_skip = 2\n",
    "colors = sns.color_palette(\"flare\", len(sizes) + c_skip)[c_skip:][::-1]\n",
    "\n",
    "\n",
    "for i_s, size in enumerate(sizes):  \n",
    "    N = (size * size)\n",
    "    \n",
    "    E = np.mean(all_obvs_multi[i_s][:, 0, :], axis=0)\n",
    "    M = np.mean(all_obvs_multi[i_s][:, 1, :], axis=0)\n",
    "    \n",
    "    C = np.mean(all_obvs_multi[i_s][:, 2, :], axis=0) / N\n",
    "    X = N * np.mean(all_obvs_multi[i_s][:, 3, :], axis=0)\n",
    "\n",
    "    marker = '.-'\n",
    "    ms=1.\n",
    "    c = colors[i_s]\n",
    "    alpha = 0.8\n",
    "    axes[0, 0].plot(temps, E/N, marker, ms=ms, c=c, alpha=alpha)\n",
    "    axes[1, 0].plot(temps, np.abs(M), marker, ms=ms, c=c, alpha=alpha)\n",
    "    axes[0, 1].plot(temps, C, marker, ms=ms, label=rf'${size}$', c=c, alpha=alpha)\n",
    "    axes[1, 1].plot(temps, X, marker, ms=ms, c=c, alpha=alpha)\n",
    "\n",
    "\n",
    "    axes[0, 0].set_title(r'$E/N$')\n",
    "    axes[1, 0].set_title(r'$M$')\n",
    "    axes[0, 1].set_title(r'$C/N$')\n",
    "    axes[1, 1].set_title(r'$\\chi$')\n",
    "    \n",
    "\n",
    "for i, ax in enumerate(axes.flatten()):\n",
    "    y_min, y_max = ax.get_ylim()\n",
    "    ax.vlines(Tc, y_min, y_max, 'grey', '--', alpha=0.8, label=r'$T_c$' if i == 0 else None)\n",
    "    ax.set_xticks(list(ax.get_xticks())[1:-1] + [Tc], minor=True, labels=list(ax.get_xticklabels())[1:-1] + [r'$T_c$'], fontsize=12, color='grey')\n",
    "# axes[0, 0].legend(loc='lower right', frameon=False)\n",
    "axes[0, 1].legend(frameon=False, borderpad=0.1, labelspacing=0.05, loc='upper right', ncol=1)\n",
    "\n",
    "axes[1, 1].set_yscale('log')\n",
    "# axes[0, 1].set_yscale('log')\n",
    "axes[1, 1].set_xlabel(r'$T$')\n",
    "axes[1, 0].set_xlabel(r'$T$')\n",
    "\n",
    "plt.tight_layout()\n",
    "plt.savefig('../figures/ising_stats_multiscale.pdf', bbox_inches='tight')"
   ],
   "metadata": {
    "collapsed": false,
    "is_executing": true
   },
   "id": "ec8de7686e34af5f"
  },
  {
   "cell_type": "markdown",
   "source": [
    "## Collapse the curves"
   ],
   "metadata": {
    "collapsed": false
   },
   "id": "9807f84b440151c7"
  },
  {
   "cell_type": "markdown",
   "source": [
    "Rescaled temperature:\n",
    "$$ t = \\frac{(T - T_c)}{T_C}$$\n",
    "$$ \\tilde{t} = t L^{1/\\nu} $$\n",
    "\n",
    "Rescaled Specific Heat:\n",
    "$$ \\tilde{C}(t, L) = L^{-\\alpha/\\nu} C(t, L) $$\n",
    "\n",
    "Rescaled Susceptibility:\n",
    "$$ \\tilde{\\chi}(t, L) = L^{-\\gamma/\\nu} \\chi(t, L) $$\n",
    "\n",
    "where $T_c = 2.2691$, $\\alpha = 0$, $\\gamma = 7/4$, and $\\nu = 1$ is known for the 2D Ising model."
   ],
   "metadata": {
    "collapsed": false
   },
   "id": "995977a73b7d2cfd"
  },
  {
   "cell_type": "code",
   "outputs": [],
   "source": [
    "exp_alpha = 0\n",
    "exp_nu = 1\n",
    "exp_gamma = 7/4"
   ],
   "metadata": {
    "collapsed": false,
    "is_executing": true
   },
   "id": "8cf5f9a60fb5f89e",
   "execution_count": null
  },
  {
   "cell_type": "code",
   "outputs": [],
   "source": [
    "fig, axes = plt.subplots(1, 2, figsize=(6, 3), dpi=120)\n",
    "\n",
    "c_skip = 2\n",
    "# colors = sns.color_palette(\"flare\", len(sizes) + c_skip)[c_skip:][::-1]\n",
    "for i_s, size in enumerate(sizes):\n",
    "    \n",
    "    # define the rescaling factors\n",
    "    rescaled_temps = ((temps - Tc) / Tc) * (size ** (1./exp_nu))\n",
    "\n",
    "    C_L = size ** (-exp_alpha / exp_nu)\n",
    "    X_L = size ** (-exp_gamma / exp_nu)\n",
    "    \n",
    "    N = (size * size)\n",
    "    C = C_L * np.mean(all_obvs_multi[i_s][:, 2, :], axis=0) / N\n",
    "    X = X_L * np.mean(N * all_obvs_multi[i_s][:, 3, :], axis=0)\n",
    "    \n",
    "    # C = [C_L * size * size * obv[2] for obv in all_obvs_multi[i_s]]\n",
    "    # X = [X_L * size * size * obv[3] for obv in all_obvs_multi[i_s]]\n",
    "\n",
    "    marker = '.'\n",
    "    ms=1.\n",
    "    lw=2\n",
    "    axes[0].plot(rescaled_temps, C, ms=ms, label=rf'${size}$', c=colors[i_s], lw=lw)\n",
    "    axes[1].plot(rescaled_temps, X, ms=ms, c=colors[i_s], lw=lw)\n",
    "    # axes[0].vlines(Tc, np.min(C), np.max(C)*10, 'r', '--', lw=lw, alpha=0.8, label=rf'$T_c$')\n",
    "    # axes[1].vlines(Tc, np.min(C), np.max(C)*10, 'r', '--', lw=lw, alpha=0.8, label=rf'$T_c$')\n",
    "\n",
    "    \n",
    "axes[0].set_xlabel(r'$tL^{1 / \\nu}$', fontsize=12)\n",
    "axes[1].set_xlabel(r'$tL^{1 / \\nu}$', fontsize=12)\n",
    "\n",
    "axes[0].set_ylabel(r'$C L^{-\\alpha / \\nu}$', fontsize=12)\n",
    "axes[1].set_ylabel(r'$\\chi L^{-\\gamma / \\nu}$', fontsize=12)\n",
    "    \n",
    "    # axes[0].set_yscale('log')\n",
    "    # axes[1].set_yscale('log')\n",
    "\n",
    "for i, ax in enumerate(axes.flatten()):\n",
    "    y_min, y_max = ax.get_ylim()\n",
    "    ax.vlines(0, y_min, y_max, 'grey', '--', alpha=0.8)\n",
    "axes[0].legend(frameon=False, borderpad=0.1, labelspacing=0.05)\n",
    "\n",
    "for ax in axes:\n",
    "    ax.set_xlim([-10, 10])\n",
    "plt.tight_layout()\n",
    "plt.savefig('../figures/collapsed_ising_stats.pdf', bbox_inches='tight')"
   ],
   "metadata": {
    "collapsed": false,
    "is_executing": true
   },
   "id": "f3143328f4c471e9",
   "execution_count": null
  },
  {
   "cell_type": "markdown",
   "source": [
    "Doesn't seem to curve-collapse very well :("
   ],
   "metadata": {
    "collapsed": false
   },
   "id": "a1e27fe783de9ec4"
  },
  {
   "cell_type": "code",
   "outputs": [],
   "source": [],
   "metadata": {
    "collapsed": false,
    "ExecuteTime": {
     "start_time": "2024-05-25T23:47:02.685091900Z"
    }
   },
   "id": "3e3a42f8cdaef7c0"
  }
 ],
 "metadata": {
  "kernelspec": {
   "display_name": "Python 3 (ipykernel)",
   "language": "python",
   "name": "python3"
  },
  "language_info": {
   "codemirror_mode": {
    "name": "ipython",
    "version": 3
   },
   "file_extension": ".py",
   "mimetype": "text/x-python",
   "name": "python",
   "nbconvert_exporter": "python",
   "pygments_lexer": "ipython3",
   "version": "3.9.15"
  }
 },
 "nbformat": 4,
 "nbformat_minor": 5
}
