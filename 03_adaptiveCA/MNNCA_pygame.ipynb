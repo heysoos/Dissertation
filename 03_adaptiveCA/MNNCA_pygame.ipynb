{
 "cells": [
  {
   "cell_type": "code",
   "execution_count": 232,
   "id": "damaged-phone",
   "metadata": {
    "ExecuteTime": {
     "end_time": "2024-05-26T13:03:20.674957500Z",
     "start_time": "2024-05-26T13:03:19.101218400Z"
    }
   },
   "outputs": [
    {
     "name": "stdout",
     "output_type": "stream",
     "text": [
      "The autoreload extension is already loaded. To reload it, use:\n",
      "  %reload_ext autoreload\n"
     ]
    }
   ],
   "source": [
    "%load_ext autoreload\n",
    "%autoreload 2\n",
    "\n",
    "import numpy as np\n",
    "import matplotlib.pyplot as plt\n",
    "\n",
    "import torch\n",
    "import torch.nn as nn\n",
    "import torch.nn.functional as F\n",
    "from torchvision import models\n",
    "# from torch.utils.tensorboard import SummaryWriter\n",
    "\n",
    "from PIL import Image\n",
    "from skimage.color import rgba2rgb\n",
    "import cv2\n",
    "from IPython.display import display, clear_output\n",
    "from math import *\n",
    "import time\n",
    "\n",
    "from os import makedirs, path\n",
    "from copy import deepcopy\n",
    "\n",
    "from tqdm import tqdm\n",
    "\n",
    "from MNNCA import CA, totalistic\n",
    "import pygame"
   ]
  },
  {
   "cell_type": "code",
   "execution_count": 233,
   "id": "demographic-column",
   "metadata": {
    "ExecuteTime": {
     "end_time": "2024-05-26T13:03:20.769644600Z",
     "start_time": "2024-05-26T13:03:20.682936500Z"
    }
   },
   "outputs": [],
   "source": [
    "def LMB_make(state, r=5, s=1):\n",
    "    '''\n",
    "    left click to make\n",
    "    r: radius of brush\n",
    "    s: smoothing / sigma\n",
    "    '''\n",
    "    xcl, ycl = pygame.mouse.get_pos()\n",
    "    xcl, ycl = int(xcl/UPSCALE), int(ycl/UPSCALE)\n",
    "    \n",
    "    # radial blur\n",
    "    xm, ym = torch.meshgrid(torch.linspace(-1, 1, 2*r), torch.linspace(-1, 1, 2*r))\n",
    "    rm = torch.sqrt(xm**2 + ym**2).type(torch.double)\n",
    "    blur = torch.exp(-rm**2 / s**2)\n",
    "    blur = torch.where(rm <= 1., blur, 0.) # circular mask\n",
    "    \n",
    "    xslice = range(xcl - r, xcl + r)\n",
    "    yslice = range(ycl - r, ycl + r)\n",
    "    for count_i, i in enumerate(xslice):\n",
    "        for count_j, j in enumerate(yslice):\n",
    "            i = i % RESX\n",
    "            j = j % RESY\n",
    "            state[:, :, i, j] = state[:, :, i, j] + blur[count_i, count_j] * 10\n",
    "    return state\n",
    "    \n",
    "    \n",
    "def RMB_del(state, r=5, s=1):\n",
    "    '''\n",
    "    right click to erase\n",
    "    r: radius of eraser\n",
    "    s: smoothing / sigma\n",
    "    '''\n",
    "    xcl, ycl = pygame.mouse.get_pos()\n",
    "    xcl, ycl = int(xcl/UPSCALE), int(ycl/UPSCALE)\n",
    "    \n",
    "    # radial blur\n",
    "    xm, ym = torch.meshgrid(torch.linspace(-1, 1, 2*r), torch.linspace(-1, 1, 2*r))\n",
    "    rm = torch.sqrt(xm**2 + ym**2).type(torch.double)\n",
    "    blur = (1 - torch.exp(-rm**2 / s**2))\n",
    "    blur = torch.where(rm <= 1., blur, 1.) # circular mask\n",
    "    \n",
    "    xslice = range(xcl - r, xcl + r)\n",
    "    yslice = range(ycl - r, ycl + r)\n",
    "    for count_i, i in enumerate(xslice):\n",
    "        for count_j, j in enumerate(yslice):\n",
    "            i = i % RESX\n",
    "            j = j % RESY\n",
    "            state[:, :, i, j] = state[:, :, i, j] * blur[count_i, count_j]\n",
    "    return state\n",
    "\n",
    "def WHEEL_permute(cdim_order, direction):\n",
    "    cdim_order = np.mod(np.add(cdim_order, direction), CHANNELS)\n",
    "    \n",
    "    return cdim_order\n",
    "    \n",
    "def WHEEL_param(param, direction, increment):\n",
    "    \n",
    "    return 10 ** (np.log10(param) + direction * increment)\n",
    "\n",
    "def min_max(mat):\n",
    "    return (mat - mat.min()) / (mat.max() - mat.min())"
   ]
  },
  {
   "cell_type": "markdown",
   "id": "frequent-clause",
   "metadata": {
    "tags": []
   },
   "source": [
    "# Test"
   ]
  },
  {
   "cell_type": "code",
   "execution_count": 234,
   "id": "corresponding-marriage",
   "metadata": {
    "pycharm": {
     "name": "#%%\n"
    },
    "tags": [],
    "ExecuteTime": {
     "end_time": "2024-05-26T13:03:20.911169100Z",
     "start_time": "2024-05-26T13:03:20.770636500Z"
    }
   },
   "outputs": [],
   "source": [
    "CHANNELS=16 # number of channels in grid\n",
    "FILTERS=2 # number of filters per channel\n",
    "NET_SIZE=[32, 32, 32] # number of hidden neurons per layer\n",
    "\n",
    "RADIUS=12\n",
    "\n",
    "ca = CA(CHANNELS=CHANNELS, FILTERS=FILTERS, NET_SIZE=NET_SIZE, RADIUS=RADIUS).cuda() "
   ]
  },
  {
   "cell_type": "code",
   "execution_count": 235,
   "id": "systematic-settlement",
   "metadata": {
    "ExecuteTime": {
     "end_time": "2024-05-26T13:03:21.209170400Z",
     "start_time": "2024-05-26T13:03:20.915152700Z"
    }
   },
   "outputs": [
    {
     "data": {
      "text/plain": "<Figure size 1200x900 with 12 Axes>",
      "image/png": "[encoded data removed]"
     },
     "metadata": {},
     "output_type": "display_data"
    }
   ],
   "source": [
    "kernels = torch.cat([k for k in ca.rule.kernels], dim=0).cpu().detach().numpy()\n",
    "# kernels = totalistic(ca.rule.kernels[0].cpu().detach()).numpy()\n",
    "\n",
    "num_plot_kernels = np.min([6, CHANNELS])\n",
    "fig, axes = plt.subplots(FILTERS, num_plot_kernels, figsize=(12, 9))\n",
    "\n",
    "# for i, ax in enumerate(axes.flatten()):\n",
    "#     ax.imshow(kernels[0, i, :, :])\n",
    "#     ax.axis('off')\n",
    "    \n",
    "\n",
    "for i in range(FILTERS):\n",
    "    \n",
    "    if FILTERS > 1:\n",
    "        for j in range(num_plot_kernels):\n",
    "            kplot = kernels[i, j, :, :]\n",
    "            kmax = np.max(np.abs(kplot))\n",
    "            axes[i, j].imshow(kplot, vmin=-kmax, vmax=kmax)\n",
    "            axes[i, j].axis('off')\n",
    "    else:\n",
    "        for j in range(num_plot_kernels):\n",
    "            kplot = kernels[i, j, :, :]\n",
    "            kmax = np.max(np.abs(kplot))\n",
    "            axes[j].imshow(kplot, vmin=-kmax, vmax=kmax)\n",
    "            axes[j].axis('off')"
   ]
  },
  {
   "cell_type": "code",
   "execution_count": 236,
   "id": "painted-ribbon",
   "metadata": {
    "ExecuteTime": {
     "end_time": "2024-05-26T13:03:21.302855500Z",
     "start_time": "2024-05-26T13:03:21.211162500Z"
    }
   },
   "outputs": [],
   "source": [
    "# brush properties\n",
    "r = 20\n",
    "s = 1"
   ]
  },
  {
   "cell_type": "code",
   "execution_count": 237,
   "id": "ceramic-gospel",
   "metadata": {
    "pycharm": {
     "name": "#%%\n"
    },
    "tags": [],
    "ExecuteTime": {
     "end_time": "2024-05-26T13:03:25.200715500Z",
     "start_time": "2024-05-26T13:03:21.302855500Z"
    }
   },
   "outputs": [
    {
     "name": "stderr",
     "output_type": "stream",
     "text": [
      "C:\\Users\\Heysoos\\AppData\\Local\\Temp\\ipykernel_31132\\2163522065.py:60: RuntimeWarning: invalid value encountered in divide\n",
      "  return (mat - mat.min()) / (mat.max() - mat.min())\n"
     ]
    }
   ],
   "source": [
    "# resolution of grid\n",
    "RESX=321\n",
    "RESY=161\n",
    "\n",
    "# pygame stuff\n",
    "######################################\n",
    "pygame.init()\n",
    "size = RESX, RESY\n",
    "# screen = pygame.display.set_mode(size)\n",
    "screen = pygame.Surface(size)\n",
    "UPSCALE = 3\n",
    "RESXup, RESYup = int(RESX*UPSCALE), int(RESY*UPSCALE)\n",
    "upscaled_screen = pygame.display.set_mode([RESXup, RESYup])\n",
    "\n",
    "running = True\n",
    "time_ticking = True\n",
    "LMB_trigger = False\n",
    "RMB_trigger = False\n",
    "WHEEL_trigger = False\n",
    "cdim_order = np.arange(0, CHANNELS)\n",
    "\n",
    "clock = pygame.time.Clock()\n",
    "font = pygame.font.SysFont(\"Noto Sans\", 12)\n",
    "def update_fps(clock, font):\n",
    "    fps = str(int(clock.get_fps()))\n",
    "    fps_text = font.render(fps, 1, pygame.Color(\"white\"))\n",
    "    fps_bg = pygame.Surface((fps_text.get_height(),fps_text.get_width()))  # the size of your rect\n",
    "    fps_bg.set_alpha(50)                # alpha level\n",
    "    fps_bg.fill((255,255,255))           # this fills the entire surface\n",
    "\n",
    "    fps_surf = pygame.Surface((fps_bg.get_height(), fps_bg.get_width()))\n",
    "    fps_surf.blit(fps_bg, (0, 0))\n",
    "    fps_surf.blit(fps_text, (0, 0))\n",
    "    return fps_surf\n",
    "def show_wheel_info(param, name):\n",
    "    font = pygame.font.SysFont(\"Noto Sans\", 12)\n",
    "    info_str = f'{name}: {param:.4f}'\n",
    "    info_txt = font.render(info_str, 1, pygame.Color(\"white\"))\n",
    "    info_bg = pygame.Surface((info_txt.get_height(),info_txt.get_width()))  # the size of your rect\n",
    "    info_bg.set_alpha(50)                # alpha level\n",
    "    info_bg.fill((255,255,255))           # this fills the entire surface\n",
    "\n",
    "    info_surf = pygame.Surface((info_bg.get_height(), info_bg.get_width()))\n",
    "    pos = (0., 0.)\n",
    "    info_surf.blit(info_bg, pos)\n",
    "    info_surf.blit(info_txt, pos)\n",
    "    return info_surf\n",
    "######################################\n",
    "\n",
    "# CENTER SEED\n",
    "seed = torch.cuda.FloatTensor(np.zeros((CHANNELS, RESX, RESY))).unsqueeze(0)\n",
    "seed[:, 3:, RESX//2, RESY//2] = 1\n",
    "state = seed.clone()\n",
    "\n",
    "# inject noise\n",
    "signal_injection = torch.zeros(size=state.shape)\n",
    "noise_amp = 1.\n",
    "noise_idx = slice(4, 10)\n",
    "\n",
    "update_rate = 1.\n",
    "ticker = 0.\n",
    "sink = False\n",
    "export_imgs = False\n",
    "imgs = []\n",
    "\n",
    "with torch.no_grad():\n",
    "    while running:              \n",
    "        for event in pygame.event.get():\n",
    "            if event.type == pygame.QUIT:\n",
    "                running = False\n",
    "                \n",
    "            '''\n",
    "            Keyboard shortcuts:\n",
    "            - [ and ] to change update_rate\n",
    "            - t to toggle totalistic rule\n",
    "            - g to toggle growth kernel\n",
    "            - s to toggle sink\n",
    "            - e to toggle export_imgs\n",
    "            - p to pause\n",
    "            - r to reset\n",
    "            - scroll wheel to permute through channel dims\n",
    "            - LMB/RMB to make/delete\n",
    "            '''\n",
    "                \n",
    "            if event.type == pygame.MOUSEBUTTONDOWN:\n",
    "                if event.button == 1:\n",
    "                    LMB_trigger = True\n",
    "                if event.button == 3:\n",
    "                    RMB_trigger = True\n",
    "            if event.type == pygame.MOUSEBUTTONUP:\n",
    "                if event.button == 1:\n",
    "                    LMB_trigger = False\n",
    "                if event.button == 3:\n",
    "                    RMB_trigger = False\n",
    "                    \n",
    "            if event.type == pygame.MOUSEWHEEL:\n",
    "                WHEEL_trigger = True\n",
    "                direction = event.y\n",
    "                \n",
    "            if event.type== pygame.KEYDOWN and event.key == pygame.K_LEFTBRACKET:\n",
    "                update_rate += -0.5\n",
    "            if event.type== pygame.KEYDOWN and event.key == pygame.K_RIGHTBRACKET:\n",
    "                update_rate += 0.5\n",
    "            \n",
    "            if event.type == pygame.MOUSEBUTTONUP and event.button == 2:\n",
    "                # scroll through channel dims\n",
    "                cdim_order = np.arange(0, state.shape[1])\n",
    "                    \n",
    "            if event.type == pygame.KEYDOWN and event.key == pygame.K_SPACE:\n",
    "                # pick another random CA\n",
    "                ca = CA(CHANNELS=CHANNELS, FILTERS=FILTERS, NET_SIZE=NET_SIZE, RADIUS=RADIUS).cuda() \n",
    "                \n",
    "                \n",
    "#             if event.type == pygame.VIDEORESIZE:\n",
    "#                 print(event.w, event.h)\n",
    "#                 surface = pygame.display.set_mode((event.w, event.h),\n",
    "#                                               pygame.RESIZABLE)\n",
    "            if event.type== pygame.KEYDOWN and event.key == pygame.K_t:\n",
    "                ca.rule.totalistic = not ca.rule.totalistic\n",
    "            if event.type== pygame.KEYDOWN and event.key == pygame.K_g:\n",
    "                ca.rule.use_growth_kernel = not ca.rule.use_growth_kernel\n",
    "            if event.type== pygame.KEYDOWN and event.key == pygame.K_s:\n",
    "                sink = not sink\n",
    "            if event.type== pygame.KEYDOWN and event.key == pygame.K_e:\n",
    "                export_imgs = not export_imgs\n",
    "            if event.type== pygame.KEYDOWN and event.key == pygame.K_p:\n",
    "                # pause/toggle time\n",
    "                time_ticking = not time_ticking\n",
    "                \n",
    "            if event.type== pygame.KEYDOWN and event.key == pygame.K_r:\n",
    "                # start from seed \n",
    "                state = seed.clone()\n",
    "                \n",
    "\n",
    "        mouse_pos = pygame.mouse.get_pos()\n",
    "        if LMB_trigger:\n",
    "            state = LMB_make(state, r=r, s=s)\n",
    "        if RMB_trigger:\n",
    "            state = RMB_del(state, r=r, s=s)\n",
    "        \n",
    "        \n",
    "        # scroll to permute through which channels get visualized\n",
    "        if WHEEL_trigger:\n",
    "            #cdim_order = WHEEL_permute(cdim_order, direction)\n",
    "            WHEEL_trigger = False\n",
    "            \n",
    "            update_rate = WHEEL_param(update_rate, direction, 1./3.)\n",
    "            \n",
    "        nx = state.cpu()[:, cdim_order].numpy()[0, 0:3, :, :].transpose(1, 2, 0)\n",
    "#         nx = state.cpu()[:, cdim_order]\n",
    "#         nx = torch.cat([\n",
    "#             nx[:,0:CHANNELS//3].mean(dim=1, keepdim=True), \n",
    "#             nx[:,CHANNELS//3:2*CHANNELS//3].mean(dim=1, keepdim=True), \n",
    "#             nx[:,2*CHANNELS//3:].mean(dim=1, keepdim=True)], dim=1)[0].numpy().transpose(1, 2, 0)\n",
    "#         nx = np.clip(nx, 0, 1)*255\n",
    "        nx = min_max(nx)* 255\n",
    "#         nx = nx + 128\n",
    "#         nx = (nx + 1)/2 * 255\n",
    "#         nx = nx.astype(np.uint8)\n",
    "        if time_ticking:\n",
    "#             state = ca.forward_perception(state, dt=1)\n",
    "#             state = ca.forward_masked(state)\n",
    "            state = ca.forward(state, update_rate= update_rate)\n",
    "            ticker += 1\n",
    "    \n",
    "        if sink and time_ticking:\n",
    "            xv, yv = torch.linspace(-1, 1, RESX), torch.linspace(-RESY/RESX, RESY/RESX, RESY)\n",
    "            X, Y = torch.meshgrid(xv, yv)\n",
    "            amp = 0.00\n",
    "            w = 30\n",
    "            R = torch.sqrt(X**2 + Y**2)\n",
    "#             state = torch.where(R > 0.5, state, state - R)\n",
    "#             state = (state - (R + 0.4*torch.cos(10*X + ticker/20).abs()).cuda()) #  * (1 - amp*(torch.cos(X*w) + torch.cos(Y*w))).cuda()\n",
    "#             state = state - (torch.sin(R*10 + ticker/60).abs()/2).cuda()\n",
    "            state = state - R.cuda()/3\n",
    "#             state[:, :, 0*RESX//10:10*RESX//10, 4*RESY//10:6*RESY//10] = torch.cuda.FloatTensor([-127. * np.sin(ticker / 20.)])\n",
    "\n",
    "        if export_imgs and time_ticking:\n",
    "            imgs.append(nx)\n",
    "    \n",
    "#         signal_injection[:, noise_idx, :, :] = noise_amp * torch.randn(size=(signal_injection[:, noise_idx, :, :].shape))\n",
    "#         signal_injection = signal_injection.to('cuda')\n",
    "#         state = state + signal_injection\n",
    "\n",
    "        pygame.surfarray.blit_array(screen, nx)        \n",
    "        frame = pygame.transform.scale(screen, (RESXup, RESYup))\n",
    "        upscaled_screen.blit(frame, frame.get_rect())\n",
    "        upscaled_screen.blit(update_fps(clock, font), (10,0))\n",
    "        upscaled_screen.blit(show_wheel_info(update_rate, 'update_rate'), (RESXup - 100,0))\n",
    "        pygame.display.flip()\n",
    "        clock.tick(120)\n",
    "        \n",
    "pygame.quit()\n"
   ]
  },
  {
   "cell_type": "code",
   "execution_count": 238,
   "id": "constitutional-baghdad",
   "metadata": {
    "ExecuteTime": {
     "end_time": "2024-05-26T13:03:25.314334700Z",
     "start_time": "2024-05-26T13:03:25.191747300Z"
    }
   },
   "outputs": [
    {
     "data": {
      "text/plain": "array([[[0.18475212, 0.15890135, 0.11808742, ..., 0.2237186 ,\n         0.19340597, 0.19009995],\n        [0.19452998, 0.1787506 , 0.14514455, ..., 0.22366641,\n         0.19747332, 0.21548046],\n        [0.13717966, 0.18343483, 0.19736955, ..., 0.23206954,\n         0.18447395, 0.187217  ],\n        ...,\n        [0.14595763, 0.1680028 , 0.16712399, ..., 0.17409132,\n         0.14383863, 0.11923881],\n        [0.17005481, 0.18886222, 0.15775208, ..., 0.16727234,\n         0.1661223 , 0.13104115],\n        [0.17053601, 0.18012263, 0.17805208, ..., 0.16274272,\n         0.15671024, 0.19374332]]], dtype=float32)"
     },
     "execution_count": 238,
     "metadata": {},
     "output_type": "execute_result"
    }
   ],
   "source": [
    "state.var(dim=1).cpu().numpy()"
   ]
  },
  {
   "cell_type": "code",
   "execution_count": 239,
   "id": "specified-leone",
   "metadata": {
    "ExecuteTime": {
     "end_time": "2024-05-26T13:03:25.571475800Z",
     "start_time": "2024-05-26T13:03:25.315333600Z"
    }
   },
   "outputs": [
    {
     "data": {
      "text/plain": "<Figure size 640x480 with 1 Axes>",
      "image/png": "[encoded data removed]"
     },
     "metadata": {},
     "output_type": "display_data"
    }
   ],
   "source": [
    "plt.hist(state.cpu().numpy().reshape(-1)); plt.yscale('log')"
   ]
  },
  {
   "cell_type": "code",
   "execution_count": 240,
   "id": "retired-british",
   "metadata": {
    "ExecuteTime": {
     "end_time": "2024-05-26T13:03:25.661174200Z",
     "start_time": "2024-05-26T13:03:25.567487700Z"
    }
   },
   "outputs": [
    {
     "data": {
      "text/plain": "torch.Size([1, 1, 321, 161])"
     },
     "execution_count": 240,
     "metadata": {},
     "output_type": "execute_result"
    }
   ],
   "source": [
    "state.var(dim=1, keepdim=True).shape"
   ]
  },
  {
   "cell_type": "code",
   "execution_count": 241,
   "id": "desirable-influence",
   "metadata": {
    "ExecuteTime": {
     "end_time": "2024-05-26T13:03:25.754861300Z",
     "start_time": "2024-05-26T13:03:25.663167400Z"
    }
   },
   "outputs": [],
   "source": [
    "fname = time.strftime(\"%Y%m%d-%H%M%S\")\n",
    "# out = cv2.VideoWriter(f'videos/CA-{fname}.avi',cv2.VideoWriter_fourcc(*'DIVX'), 60, (RESX, RESY), 3)\n",
    "out = cv2.VideoWriter(f'videos/CA-{fname}.mp4',cv2.VideoWriter_fourcc(*'MP4V'), 90, (RESX, RESY), 3)\n",
    "\n",
    "\n",
    "for img in imgs:\n",
    "#     img = np.uint8(cv2.cvtColor(img, cv2.COLOR_RGB2BGR)*255.0)\n",
    "    img = np.uint8(cv2.cvtColor(img, cv2.COLOR_RGB2BGR)).transpose(1, 0, 2)\n",
    "    out.write(img)\n",
    "out.release()"
   ]
  },
  {
   "cell_type": "code",
   "execution_count": 242,
   "id": "lovely-width",
   "metadata": {
    "ExecuteTime": {
     "end_time": "2024-05-26T13:03:25.959177Z",
     "start_time": "2024-05-26T13:03:25.754861300Z"
    }
   },
   "outputs": [
    {
     "data": {
      "text/plain": "(array([488969.,  17059.,  17457.,  18391.,  19220.,  20411.,  22612.,\n         25911.,  32538., 164328.]),\n array([0. , 0.1, 0.2, 0.3, 0.4, 0.5, 0.6, 0.7, 0.8, 0.9, 1. ],\n       dtype=float32),\n <BarContainer object of 10 artists>)"
     },
     "execution_count": 242,
     "metadata": {},
     "output_type": "execute_result"
    },
    {
     "data": {
      "text/plain": "<Figure size 640x480 with 1 Axes>",
      "image/png": "[encoded data removed]"
     },
     "metadata": {},
     "output_type": "display_data"
    }
   ],
   "source": [
    "plt.hist(state.reshape(-1).cpu().detach().numpy())"
   ]
  },
  {
   "cell_type": "code",
   "execution_count": 242,
   "id": "minute-restriction",
   "metadata": {
    "ExecuteTime": {
     "end_time": "2024-05-26T13:03:25.985091700Z",
     "start_time": "2024-05-26T13:03:25.960174100Z"
    }
   },
   "outputs": [],
   "source": []
  },
  {
   "cell_type": "code",
   "execution_count": 242,
   "id": "provincial-thing",
   "metadata": {
    "ExecuteTime": {
     "end_time": "2024-05-26T13:03:25.995056700Z",
     "start_time": "2024-05-26T13:03:25.975123700Z"
    }
   },
   "outputs": [],
   "source": []
  }
 ],
 "metadata": {
  "kernelspec": {
   "display_name": "Python 3 (ipykernel)",
   "language": "python",
   "name": "python3"
  },
  "language_info": {
   "codemirror_mode": {
    "name": "ipython",
    "version": 3
   },
   "file_extension": ".py",
   "mimetype": "text/x-python",
   "name": "python",
   "nbconvert_exporter": "python",
   "pygments_lexer": "ipython3",
   "version": "3.9.9"
  }
 },
 "nbformat": 4,
 "nbformat_minor": 5
}
