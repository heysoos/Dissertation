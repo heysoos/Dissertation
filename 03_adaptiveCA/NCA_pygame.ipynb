{
 "cells": [
  {
   "cell_type": "code",
   "execution_count": 1,
   "id": "voluntary-approval",
   "metadata": {
    "pycharm": {
     "is_executing": true
    },
    "ExecuteTime": {
     "end_time": "2024-04-23T19:50:01.203977100Z",
     "start_time": "2024-04-23T19:49:58.660481100Z"
    }
   },
   "outputs": [
    {
     "name": "stderr",
     "output_type": "stream",
     "text": [
      "C:\\Users\\Heysoos\\anaconda3\\envs\\torchstuff\\lib\\site-packages\\tqdm\\auto.py:22: TqdmWarning: IProgress not found. Please update jupyter and ipywidgets. See https://ipywidgets.readthedocs.io/en/stable/user_install.html\n",
      "  from .autonotebook import tqdm as notebook_tqdm\n"
     ]
    },
    {
     "name": "stdout",
     "output_type": "stream",
     "text": [
      "pygame 2.1.2 (SDL 2.0.18, Python 3.9.15)\n",
      "Hello from the pygame community. https://www.pygame.org/contribute.html\n"
     ]
    }
   ],
   "source": [
    "import numpy as np\n",
    "import matplotlib.pyplot as plt\n",
    "\n",
    "import torch\n",
    "import torch.nn as nn\n",
    "import torch.nn.functional as F\n",
    "from torchvision import models\n",
    "# from torch.utils.tensorboard import SummaryWriter\n",
    "\n",
    "from PIL import Image\n",
    "from skimage.color import rgba2rgb\n",
    "import cv2\n",
    "from IPython.display import display, clear_output\n",
    "from math import *\n",
    "import time\n",
    "\n",
    "from os import makedirs, path\n",
    "from copy import deepcopy\n",
    "\n",
    "from tqdm import tqdm\n",
    "\n",
    "from NCA import CA, totalistic\n",
    "import pygame"
   ]
  },
  {
   "cell_type": "code",
   "execution_count": 2,
   "id": "confident-beach",
   "metadata": {
    "ExecuteTime": {
     "end_time": "2024-04-23T19:50:01.235870800Z",
     "start_time": "2024-04-23T19:50:01.208960600Z"
    }
   },
   "outputs": [],
   "source": [
    "def LMB_make(state, r=5, s=1):\n",
    "    '''\n",
    "    left click to make\n",
    "    r: radius of brush\n",
    "    s: smoothing / sigma\n",
    "    '''\n",
    "    xcl, ycl = pygame.mouse.get_pos()\n",
    "    xcl, ycl = int(xcl/UPSCALE), int(ycl/UPSCALE)\n",
    "    \n",
    "    # radial blur\n",
    "    xm, ym = torch.meshgrid(torch.linspace(-1, 1, 2*r), torch.linspace(-1, 1, 2*r))\n",
    "    rm = torch.sqrt(xm**2 + ym**2).type(torch.double)\n",
    "    # blur = torch.exp(-rm**2 / s**2)\n",
    "    blur = torch.rand_like(rm)\n",
    "    blur = torch.where(rm <= 1., blur, 0.) # circular mask\n",
    "    \n",
    "    xslice = range(xcl - r, xcl + r)\n",
    "    yslice = range(ycl - r, ycl + r)\n",
    "    for count_i, i in enumerate(xslice):\n",
    "        for count_j, j in enumerate(yslice):\n",
    "            i = i % RESX\n",
    "            j = j % RESY\n",
    "            state[:, :, i, j] = state[:, :, i, j] + blur[count_i, count_j]\n",
    "    return state\n",
    "    \n",
    "    \n",
    "def RMB_del(state, r=5, s=1):\n",
    "    '''\n",
    "    right click to erase\n",
    "    r: radius of eraser\n",
    "    s: smoothing / sigma\n",
    "    '''\n",
    "    xcl, ycl = pygame.mouse.get_pos()\n",
    "    xcl, ycl = int(xcl/UPSCALE), int(ycl/UPSCALE)\n",
    "    \n",
    "    # radial blur\n",
    "    xm, ym = torch.meshgrid(torch.linspace(-1, 1, 2*r), torch.linspace(-1, 1, 2*r))\n",
    "    rm = torch.sqrt(xm**2 + ym**2).type(torch.double)\n",
    "    blur = (1 - torch.exp(-rm**2 / s**2))\n",
    "    blur = torch.where(rm <= 1., blur, 1.) # circular mask\n",
    "    \n",
    "    xslice = range(xcl - r, xcl + r)\n",
    "    yslice = range(ycl - r, ycl + r)\n",
    "    for count_i, i in enumerate(xslice):\n",
    "        for count_j, j in enumerate(yslice):\n",
    "            i = i % RESX\n",
    "            j = j % RESY\n",
    "            state[:, :, i, j] = state[:, :, i, j] * blur[count_i, count_j]\n",
    "    return state\n",
    "\n",
    "def WHEEL_permute(cdim_order, direction):\n",
    "    cdim_order = np.mod(np.add(cdim_order, direction), CHANNELS)\n",
    "    \n",
    "    return cdim_order"
   ]
  },
  {
   "cell_type": "markdown",
   "id": "forward-proceeding",
   "metadata": {
    "tags": []
   },
   "source": [
    "# Test"
   ]
  },
  {
   "cell_type": "code",
   "execution_count": 3,
   "id": "informed-property",
   "metadata": {
    "pycharm": {
     "name": "#%%\n"
    },
    "tags": [],
    "ExecuteTime": {
     "end_time": "2024-04-23T19:50:04.233487400Z",
     "start_time": "2024-04-23T19:50:01.216942Z"
    }
   },
   "outputs": [
    {
     "name": "stderr",
     "output_type": "stream",
     "text": [
      "C:\\Users\\Heysoos\\anaconda3\\envs\\torchstuff\\lib\\site-packages\\torch\\functional.py:504: UserWarning: torch.meshgrid: in an upcoming release, it will be required to pass the indexing argument. (Triggered internally at C:\\cb\\pytorch_1000000000000\\work\\aten\\src\\ATen\\native\\TensorShape.cpp:3191.)\n",
      "  return _VF.meshgrid(tensors, **kwargs)  # type: ignore[attr-defined]\n"
     ]
    },
    {
     "data": {
      "text/plain": "<matplotlib.image.AxesImage at 0x1be00155fd0>"
     },
     "execution_count": 3,
     "metadata": {},
     "output_type": "execute_result"
    },
    {
     "data": {
      "text/plain": "<Figure size 1300x250 with 5 Axes>",
      "image/png": "[encoded data removed]"
     },
     "metadata": {},
     "output_type": "display_data"
    }
   ],
   "source": [
    "CHANNELS=6 # number of channels in grid\n",
    "FILTERS=1 # number of filters per channel\n",
    "HIDDEN=10 # number of hidden neurons\n",
    "\n",
    "RADIUS=10 # radius of kernel\n",
    "KCENTER=0. # radius of gaussian ring\n",
    "KSMOOTH=0.9 # gaussian smoothing\n",
    "OUTR=1. # outer ring of kernel\n",
    "INR=0.  # inner ring of kernel\n",
    "GAMP=-.1 # growth kernel amplitude\n",
    "\n",
    "\n",
    "ca = CA(CHANNELS=CHANNELS, FILTERS=FILTERS, HIDDEN=HIDDEN,\n",
    "        RADIUS=RADIUS, KCENTER=KCENTER, KSMOOTH=KSMOOTH, OUTR=OUTR, INR=INR, GAMP=GAMP).cuda() \n",
    "\n",
    "\n",
    "fig, ax = plt.subplots(1, 5, figsize=(13, 2.5))\n",
    "ax[0].imshow(ca.rule.filter1[0, 0].cpu().detach().numpy())\n",
    "ax[1].imshow(totalistic(ca.rule.filter1.detach())[0, 0].cpu().detach().numpy())\n",
    "ax[2].imshow(totalistic(ca.rule.filter1 * ca.rule.decay_kernel)[0, 0].cpu().detach().numpy())\n",
    "ax[3].imshow(ca.rule.decay_kernel.cpu().detach().numpy())\n",
    "ax[4].imshow(ca.rule.growth_kernel.cpu().detach().numpy())"
   ]
  },
  {
   "cell_type": "code",
   "execution_count": 4,
   "id": "5ec4fa12-4692-43b8-8eb4-1e294feebd87",
   "metadata": {
    "ExecuteTime": {
     "end_time": "2024-04-23T19:50:04.406907500Z",
     "start_time": "2024-04-23T19:50:04.233487400Z"
    }
   },
   "outputs": [
    {
     "data": {
      "text/plain": "<Figure size 640x480 with 1 Axes>",
      "image/png": "[encoded data removed]"
     },
     "metadata": {},
     "output_type": "display_data"
    }
   ],
   "source": [
    "plt.hist((totalistic(ca.rule.filter1.detach()).cpu().detach().numpy()).reshape(-1), 50);"
   ]
  },
  {
   "cell_type": "code",
   "execution_count": 5,
   "id": "listed-hormone",
   "metadata": {
    "ExecuteTime": {
     "end_time": "2024-04-23T19:50:04.435811900Z",
     "start_time": "2024-04-23T19:50:04.407909700Z"
    }
   },
   "outputs": [],
   "source": [
    "# brush properties\n",
    "r = 40\n",
    "s = 1"
   ]
  },
  {
   "cell_type": "code",
   "execution_count": 6,
   "id": "continuous-response",
   "metadata": {
    "pycharm": {
     "name": "#%%\n"
    },
    "tags": [],
    "ExecuteTime": {
     "end_time": "2024-04-23T19:51:05.213656200Z",
     "start_time": "2024-04-23T19:50:04.423851400Z"
    }
   },
   "outputs": [],
   "source": [
    "# resolution of grid\n",
    "RESX=250\n",
    "RESY=250\n",
    "\n",
    "# pygame stuff\n",
    "######################################\n",
    "pygame.init()\n",
    "size = RESX, RESY\n",
    "# screen = pygame.display.set_mode(size)\n",
    "screen = pygame.Surface(size)\n",
    "UPSCALE = 3\n",
    "RESXup, RESYup = int(RESX*UPSCALE), int(RESY*UPSCALE)\n",
    "upscaled_screen = pygame.display.set_mode([RESXup, RESYup])\n",
    "\n",
    "running = True\n",
    "time_ticking = True\n",
    "LMB_trigger = False\n",
    "RMB_trigger = False\n",
    "WHEEL_trigger = False\n",
    "cdim_order = np.arange(0, CHANNELS)\n",
    "\n",
    "clock = pygame.time.Clock()\n",
    "font = pygame.font.SysFont(\"Noto Sans\", 12)\n",
    "def update_fps(clock, font):\n",
    "    fps = str(int(clock.get_fps()))\n",
    "    fps_text = font.render(fps, 1, pygame.Color(\"white\"))\n",
    "    fps_bg = pygame.Surface((fps_text.get_height(),fps_text.get_width()))  # the size of your rect\n",
    "    fps_bg.set_alpha(50)                # alpha level\n",
    "    fps_bg.fill((255,255,255))           # this fills the entire surface\n",
    "\n",
    "    fps_surf = pygame.Surface((fps_bg.get_height(), fps_bg.get_width()))\n",
    "    fps_surf.blit(fps_bg, (0, 0))\n",
    "    fps_surf.blit(fps_text, (0, 0))\n",
    "    return fps_surf\n",
    "######################################\n",
    "\n",
    "# CENTER SEED\n",
    "seed = torch.cuda.FloatTensor(np.zeros((CHANNELS, RESX, RESY))).unsqueeze(0)\n",
    "seed[:, :, RESX//2, RESY//2] = 1\n",
    "\n",
    "# NOISE SEED\n",
    "#seed = torch.randn(1, CHANNELS, RESX, RESY).cuda()\n",
    "\n",
    "state = seed.clone()\n",
    "\n",
    "# inject noise\n",
    "signal_injection = torch.zeros(size=state.shape)\n",
    "noise_amp = 1.\n",
    "noise_idx = slice(4, 10)\n",
    "\n",
    "\n",
    "update_rate = 1.\n",
    "ticker = 0.\n",
    "sink = False\n",
    "export_imgs = False\n",
    "imgs = []\n",
    "\n",
    "\n",
    "with torch.no_grad():\n",
    "    while running:              \n",
    "        for event in pygame.event.get():\n",
    "            if event.type == pygame.QUIT:\n",
    "                running = False\n",
    "                \n",
    "            if event.type == pygame.MOUSEBUTTONDOWN:\n",
    "                if event.button == 1:\n",
    "                    LMB_trigger = True\n",
    "                if event.button == 3:\n",
    "                    RMB_trigger = True\n",
    "            if event.type == pygame.MOUSEBUTTONUP:\n",
    "                if event.button == 1:\n",
    "                    LMB_trigger = False\n",
    "                if event.button == 3:\n",
    "                    RMB_trigger = False\n",
    "                    \n",
    "            if event.type == pygame.MOUSEWHEEL:\n",
    "                WHEEL_trigger = True\n",
    "                direction = event.y\n",
    "                \n",
    "            if event.type== pygame.KEYDOWN and event.key == pygame.K_LEFTBRACKET:\n",
    "                update_rate += -0.5\n",
    "            if event.type== pygame.KEYDOWN and event.key == pygame.K_RIGHTBRACKET:\n",
    "                update_rate += 0.5\n",
    "            \n",
    "            if event.type == pygame.MOUSEBUTTONUP and event.button == 2:\n",
    "                # scroll through channel dims\n",
    "                cdim_order = np.arange(0, state.shape[1])\n",
    "                    \n",
    "            if event.type == pygame.KEYDOWN and event.key == pygame.K_SPACE:\n",
    "                # pick another random CA\n",
    "                ca = CA(CHANNELS=CHANNELS, FILTERS=FILTERS, HIDDEN=HIDDEN,\n",
    "                        RADIUS=RADIUS, KCENTER=KCENTER, KSMOOTH=KSMOOTH, OUTR=OUTR, INR=INR, GAMP=GAMP).cuda() \n",
    "                \n",
    "                \n",
    "            if event.type == pygame.KEYDOWN and event.key == pygame.K_e:\n",
    "                export_imgs = not export_imgs\n",
    "            if event.type== pygame.KEYDOWN and event.key == pygame.K_t:\n",
    "                ca.rule.totalistic = not ca.rule.totalistic\n",
    "\n",
    "            if event.type== pygame.KEYDOWN and event.key == pygame.K_s:\n",
    "                sink = not sink\n",
    "            if event.type== pygame.KEYDOWN and event.key == pygame.K_p:\n",
    "                # pause/toggle time\n",
    "                time_ticking = not time_ticking\n",
    "\n",
    "                \n",
    "            if event.type== pygame.KEYDOWN and event.key == pygame.K_r:\n",
    "                # start from seed \n",
    "                state = seed.clone()\n",
    "                \n",
    "\n",
    "        mouse_pos = pygame.mouse.get_pos()\n",
    "        if LMB_trigger:\n",
    "            state = LMB_make(state, r=r, s=s)\n",
    "        if RMB_trigger:\n",
    "            state = RMB_del(state, r=r, s=s)\n",
    "        \n",
    "        \n",
    "        # scroll to permute through which channels get visualized\n",
    "        if WHEEL_trigger:\n",
    "            cdim_order = WHEEL_permute(cdim_order, direction)\n",
    "            WHEEL_trigger = False\n",
    "            \n",
    "        nx = state.cpu()[:, cdim_order].numpy()[0, 0:3, :, :].transpose(1, 2, 0)\n",
    "        nx = nx*255.\n",
    "        # nx = nx + 128\n",
    "#         nx = (nx + 1)/2 * 255\n",
    "#         nx = nx.astype(np.uint8)\n",
    "        if time_ticking:\n",
    "            state = ca.forward_perception(state, dt=1)\n",
    "            # state = ca.forward_masked(state)\n",
    "            # state = ca.forward(state, update_rate=update_rate)\n",
    "            ticker += 1\n",
    "    \n",
    "            if sink:\n",
    "                #state[:, :, 0*RESX//10:10*RESX//10, 4*RESY//10:6*RESY//10] = torch.cuda.FloatTensor([-127. * np.sin(ticker / 20.)])\n",
    "                # state[:, :, 4*RESX//10:6*RESX//10, 4*RESY//10:6*RESY//10] += - 0.1 * torch.cuda.FloatTensor([-127. * np.sin(ticker / 100.)])\n",
    "                state[:, :, 4*RESX//10:6*RESX//10, 4*RESY//10:6*RESY//10] *= 0.8\n",
    "\n",
    "            if export_imgs and time_ticking:\n",
    "                imgs.append(nx)\n",
    "\n",
    "        pygame.surfarray.blit_array(screen, nx)        \n",
    "        frame = pygame.transform.scale(screen, (RESXup, RESYup))\n",
    "        upscaled_screen.blit(frame, frame.get_rect())\n",
    "        upscaled_screen.blit(update_fps(clock, font), (10,0))\n",
    "        pygame.display.flip()\n",
    "        clock.tick()\n",
    "        \n",
    "pygame.quit()\n"
   ]
  },
  {
   "cell_type": "code",
   "execution_count": 7,
   "id": "isolated-enemy",
   "metadata": {
    "ExecuteTime": {
     "end_time": "2024-04-23T19:51:05.410997500Z",
     "start_time": "2024-04-23T19:51:05.196712Z"
    }
   },
   "outputs": [
    {
     "data": {
      "text/plain": "(array([101662.,   9387.,   8390.,   8231.,   8045.,   8223.,   8558.,\n          9219.,  10473., 202812.]),\n array([0. , 0.1, 0.2, 0.3, 0.4, 0.5, 0.6, 0.7, 0.8, 0.9, 1. ],\n       dtype=float32),\n <BarContainer object of 10 artists>)"
     },
     "execution_count": 7,
     "metadata": {},
     "output_type": "execute_result"
    },
    {
     "data": {
      "text/plain": "<Figure size 640x480 with 1 Axes>",
      "image/png": "[encoded data removed]"
     },
     "metadata": {},
     "output_type": "display_data"
    }
   ],
   "source": [
    "plt.hist(state.cpu().detach().numpy().reshape(-1))"
   ]
  },
  {
   "cell_type": "code",
   "execution_count": 8,
   "id": "44d652ae-0948-4193-b47d-b9092986d933",
   "metadata": {
    "ExecuteTime": {
     "end_time": "2024-04-23T19:51:05.449868300Z",
     "start_time": "2024-04-23T19:51:05.401030900Z"
    }
   },
   "outputs": [],
   "source": [
    "upscale = UPSCALE\n",
    "\n",
    "fname = time.strftime(\"%Y%m%d-%H%M%S\")\n",
    "# out = cv2.VideoWriter(f'videos/CA-{fname}.avi',cv2.VideoWriter_fourcc(*'DIVX'), 60, (RESX, RESY), 3)\n",
    "out = cv2.VideoWriter(f'videos/CA-{fname}.mp4',cv2.VideoWriter_fourcc(*'MP4V'), 60, (RESX*upscale, RESY*upscale), 3)\n",
    "\n",
    "for img in imgs[::4]:\n",
    "#     img = np.uint8(cv2.cvtColor(img, cv2.COLOR_RGB2BGR)*255.0)\n",
    "    #img = np.float32(np.kron(img, np.ones((upscale, upscale, 1))))\n",
    "    img = img.repeat(upscale, axis=0).repeat(upscale, axis=1)\n",
    "    img = np.uint8(cv2.cvtColor(img, cv2.COLOR_RGB2BGR)).transpose(1, 0, 2)\n",
    "    out.write(img)\n",
    "out.release()"
   ]
  },
  {
   "cell_type": "code",
   "execution_count": 9,
   "id": "f9c5accb-baa3-4aeb-ab56-48c3ccd2aa55",
   "metadata": {
    "ExecuteTime": {
     "end_time": "2024-04-23T19:51:05.466810700Z",
     "start_time": "2024-04-23T19:51:05.448870700Z"
    }
   },
   "outputs": [],
   "source": [
    "optim = torch.optim.SGD(ca.parameters(), lr=1e-3)"
   ]
  }
 ],
 "metadata": {
  "kernelspec": {
   "display_name": "Python 3 (ipykernel)",
   "language": "python",
   "name": "python3"
  },
  "language_info": {
   "codemirror_mode": {
    "name": "ipython",
    "version": 3
   },
   "file_extension": ".py",
   "mimetype": "text/x-python",
   "name": "python",
   "nbconvert_exporter": "python",
   "pygments_lexer": "ipython3",
   "version": "3.9.9"
  }
 },
 "nbformat": 4,
 "nbformat_minor": 5
}
