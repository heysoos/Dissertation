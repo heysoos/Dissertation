{
 "cells": [
  {
   "cell_type": "code",
   "id": "damaged-phone",
   "metadata": {
    "ExecuteTime": {
     "end_time": "2024-06-06T10:26:26.865583Z",
     "start_time": "2024-06-06T10:26:25.739741Z"
    }
   },
   "source": [
    "%load_ext autoreload\n",
    "%autoreload 2\n",
    "import sys\n",
    "sys.path.append('/Users/Heysoos/Documents/Pycharm Projects/Dissertation/03_adaptiveCA')\n",
    "\n",
    "import numpy as np\n",
    "import matplotlib.pyplot as plt\n",
    "\n",
    "import torch\n",
    "from tqdm.auto import tqdm\n",
    "import cv2\n",
    "import time\n",
    "\n",
    "from models.MNNCA import CA, totalistic\n",
    "import pygame\n",
    "from src.utils import *"
   ],
   "outputs": [
    {
     "name": "stdout",
     "output_type": "stream",
     "text": [
      "The autoreload extension is already loaded. To reload it, use:\n",
      "  %reload_ext autoreload\n"
     ]
    }
   ],
   "execution_count": 143
  },
  {
   "cell_type": "markdown",
   "id": "frequent-clause",
   "metadata": {
    "tags": []
   },
   "source": [
    "# Init"
   ]
  },
  {
   "cell_type": "code",
   "id": "corresponding-marriage",
   "metadata": {
    "pycharm": {
     "name": "#%%\n"
    },
    "tags": [],
    "ExecuteTime": {
     "end_time": "2024-06-06T10:26:26.952289Z",
     "start_time": "2024-06-06T10:26:26.867573Z"
    }
   },
   "source": [
    "CHANNELS=4 # number of channels in grid\n",
    "FILTERS=4 # number of filters per channel\n",
    "NET_SIZE=[32, 32, 32] # number of hidden neurons per layer\n",
    "\n",
    "# RADIUS=11\n",
    "RADIUS=[5] * 4\n",
    "\n",
    "ca = CA(CHANNELS=CHANNELS, FILTERS=FILTERS, NET_SIZE=NET_SIZE, RADIUS=RADIUS).cuda() "
   ],
   "outputs": [],
   "execution_count": 144
  },
  {
   "cell_type": "code",
   "id": "systematic-settlement",
   "metadata": {
    "ExecuteTime": {
     "end_time": "2024-06-06T10:26:27.032023Z",
     "start_time": "2024-06-06T10:26:26.953286Z"
    }
   },
   "source": [
    "# if it's not the slackermanz implementation\n",
    "if not isinstance(RADIUS, list):\n",
    "    kernels = torch.cat([k for k in ca.rule.kernels], dim=0).cpu().detach().numpy()\n",
    "\n",
    "    num_plot_kernels = CHANNELS\n",
    "    fig, axes = plt.subplots(FILTERS, num_plot_kernels, figsize=(CHANNELS, 1.3*FILTERS))\n",
    "    \n",
    "    for i in range(FILTERS):\n",
    "        if FILTERS > 1:\n",
    "            for j in range(num_plot_kernels):\n",
    "                kplot = kernels[i, j, :, :]\n",
    "                kmax = np.max(np.abs(kplot))\n",
    "                axes[i, j].imshow(kplot, vmin=-kmax, vmax=kmax)\n",
    "                axes[i, j].axis('off')\n",
    "        else:\n",
    "            for j in range(num_plot_kernels):\n",
    "                kplot = kernels[i, j, :, :]\n",
    "                kmax = np.max(np.abs(kplot))\n",
    "                axes[j].imshow(kplot, vmin=-kmax, vmax=kmax)\n",
    "                axes[j].axis('off')"
   ],
   "outputs": [],
   "execution_count": 145
  },
  {
   "cell_type": "code",
   "id": "painted-ribbon",
   "metadata": {
    "ExecuteTime": {
     "end_time": "2024-06-06T10:26:27.105090Z",
     "start_time": "2024-06-06T10:26:27.034016Z"
    }
   },
   "source": [
    "# brush properties\n",
    "r = 20\n",
    "s = 1"
   ],
   "outputs": [],
   "execution_count": 146
  },
  {
   "cell_type": "code",
   "id": "ceramic-gospel",
   "metadata": {
    "pycharm": {
     "name": "#%%\n"
    },
    "tags": [],
    "ExecuteTime": {
     "end_time": "2024-06-06T12:28:47.258430Z",
     "start_time": "2024-06-06T12:28:32.661759Z"
    }
   },
   "source": [
    "# resolution of grid\n",
    "RESX=256\n",
    "RESY=256\n",
    "\n",
    "# pygame stuff\n",
    "######################################\n",
    "pygame.init()\n",
    "size = RESX, RESY\n",
    "# screen = pygame.display.set_mode(size)\n",
    "screen = pygame.Surface(size)\n",
    "UPSCALE = 2\n",
    "RESXup, RESYup = int(RESX*UPSCALE), int(RESY*UPSCALE)\n",
    "upscaled_screen = pygame.display.set_mode([RESXup, RESYup])\n",
    "\n",
    "running = True\n",
    "time_ticking = True\n",
    "LMB_trigger = False\n",
    "RMB_trigger = False\n",
    "WHEEL_trigger = False\n",
    "brush_toggle = False\n",
    "cdim_order = np.arange(0, CHANNELS)\n",
    "\n",
    "clock = pygame.time.Clock()\n",
    "font = pygame.font.SysFont(\"Noto Sans\", 12)\n",
    "######################################\n",
    "\n",
    "# CENTER SEED\n",
    "seed = torch.cuda.FloatTensor(np.zeros((CHANNELS, RESX, RESY))).unsqueeze(0)\n",
    "seed[:, 3:, RESX//2, RESY//2] = 1\n",
    "state = seed.clone()\n",
    "\n",
    "update_rate = 1.\n",
    "ticker = 0.\n",
    "sink = False\n",
    "export_imgs = False\n",
    "imgs = []\n",
    "\n",
    "with torch.no_grad():\n",
    "    while running:              \n",
    "        for event in pygame.event.get():\n",
    "            if event.type == pygame.QUIT:\n",
    "                running = False\n",
    "                \n",
    "            '''\n",
    "            Keyboard shortcuts:\n",
    "            - [ and ] to change update_rate\n",
    "            - t to toggle totalistic rule\n",
    "            - g to toggle growth kernel\n",
    "            - s to toggle sink\n",
    "            - e to toggle export_imgs for video\n",
    "            - o to save current state as png\n",
    "            - p to pause\n",
    "            - r to reset\n",
    "            - scroll wheel to permute through channel dims\n",
    "            - LMB/RMB to make/delete\n",
    "            '''\n",
    "                \n",
    "            if event.type == pygame.MOUSEBUTTONDOWN:\n",
    "                if event.button == 1:\n",
    "                    LMB_trigger = True\n",
    "                if event.button == 3:\n",
    "                    RMB_trigger = True\n",
    "            if event.type == pygame.MOUSEBUTTONUP:\n",
    "                if event.button == 1:\n",
    "                    LMB_trigger = False\n",
    "                if event.button == 3:\n",
    "                    RMB_trigger = False\n",
    "                    \n",
    "            if event.type == pygame.MOUSEWHEEL:\n",
    "                WHEEL_trigger = True\n",
    "                direction = event.y\n",
    "                \n",
    "            if event.type== pygame.KEYDOWN and event.key == pygame.K_LEFTBRACKET:\n",
    "                update_rate += -0.5\n",
    "            if event.type== pygame.KEYDOWN and event.key == pygame.K_RIGHTBRACKET:\n",
    "                update_rate += 0.5\n",
    "            \n",
    "            if event.type == pygame.MOUSEBUTTONUP and event.button == 2:\n",
    "                # scroll through channel dims\n",
    "                cdim_order = np.arange(0, state.shape[1])\n",
    "                    \n",
    "            if event.type == pygame.KEYDOWN and event.key == pygame.K_SPACE:\n",
    "                # pick another random CA\n",
    "                ca = CA(CHANNELS=CHANNELS, FILTERS=FILTERS, NET_SIZE=NET_SIZE, RADIUS=RADIUS).cuda() \n",
    "                \n",
    "            if event.type== pygame.KEYDOWN and event.key == pygame.K_t:\n",
    "                ca.rule.totalistic = not ca.rule.totalistic\n",
    "            if event.type== pygame.KEYDOWN and event.key == pygame.K_b:\n",
    "                brush_toggle = not brush_toggle\n",
    "            if event.type== pygame.KEYDOWN and event.key == pygame.K_g:\n",
    "                ca.rule.use_growth_kernel = not ca.rule.use_growth_kernel\n",
    "            if event.type== pygame.KEYDOWN and event.key == pygame.K_s:\n",
    "                sink = not sink\n",
    "            if event.type== pygame.KEYDOWN and event.key == pygame.K_e:\n",
    "                export_imgs = not export_imgs\n",
    "            if event.type== pygame.KEYDOWN and event.key == pygame.K_o:\n",
    "                # save current state as png\n",
    "                timestr = time.strftime(\"%Y%m%d-%H%M%S\")\n",
    "                pygame.image.save(upscaled_screen, f\"../figures/state_{timestr}.png\")\n",
    "            if event.type== pygame.KEYDOWN and event.key == pygame.K_p:\n",
    "                # pause/toggle time\n",
    "                time_ticking = not time_ticking\n",
    "                \n",
    "            if event.type== pygame.KEYDOWN and event.key == pygame.K_r:\n",
    "                # start from seed \n",
    "                state = seed.clone()\n",
    "                \n",
    "\n",
    "        mouse_pos = pygame.mouse.get_pos()\n",
    "        if LMB_trigger:\n",
    "            state = click(state, rmb=False, r=r, s=s, upscale=UPSCALE, brush_toggle=brush_toggle)\n",
    "            state.clamp(0, 1)\n",
    "        if RMB_trigger:\n",
    "            state = click(state, rmb=True, r=r, s=s, upscale=UPSCALE, brush_toggle=brush_toggle)\n",
    "            state.clamp(0, 1)\n",
    "        \n",
    "        \n",
    "        # scroll to permute through which channels get visualized\n",
    "        if WHEEL_trigger:\n",
    "            #cdim_order = WHEEL_permute(cdim_order, direction, CHANNELS)\n",
    "            WHEEL_trigger = False\n",
    "            \n",
    "            update_rate = WHEEL_param(update_rate, direction, 1./3.)\n",
    "            \n",
    "        nx = state.cpu()[:, cdim_order].numpy()[0, 0:3, :, :].transpose(1, 2, 0)\n",
    "#         nx = np.clip(nx, 0, 1)*255\n",
    "        nx = min_max(nx) * 255\n",
    "\n",
    "        if time_ticking:\n",
    "#             state = ca.forward_perception(state, dt=1)\n",
    "#             state = ca.forward_masked(state)\n",
    "#             state = ca.forward(state, update_rate= update_rate)\n",
    "            state = ca.forward_slacker(state)\n",
    "            ticker += 1\n",
    "    \n",
    "        if sink and time_ticking:\n",
    "            xv, yv = torch.linspace(-1, 1, RESX), torch.linspace(-RESY/RESX, RESY/RESX, RESY)\n",
    "            X, Y = torch.meshgrid(xv, yv)\n",
    "            amp = 0.00\n",
    "            w = 30\n",
    "            R = torch.sqrt(X**2 + Y**2)\n",
    "            state = state - R.cuda()/3\n",
    "\n",
    "        if export_imgs and time_ticking:\n",
    "            # imgs.append(nx) # export img\n",
    "            imgs.append(state) # export state\n",
    "\n",
    "        pygame.surfarray.blit_array(screen, nx)        \n",
    "        frame = pygame.transform.scale(screen, (RESXup, RESYup))\n",
    "        upscaled_screen.blit(frame, frame.get_rect())\n",
    "        upscaled_screen.blit(update_fps(clock, font), (10,0))\n",
    "        upscaled_screen.blit(show_param_info(update_rate, 'update_rate'), (RESXup - 100,0))\n",
    "        pygame.display.flip()\n",
    "        clock.tick(15)\n",
    "        \n",
    "pygame.quit()\n"
   ],
   "outputs": [],
   "execution_count": 158
  },
  {
   "cell_type": "code",
   "source": [
    "def overflowloss(state):\n",
    "    return (state - state.clamp(-1, 1)).abs().sum()"
   ],
   "metadata": {
    "collapsed": false,
    "ExecuteTime": {
     "end_time": "2024-06-06T10:26:34.997629Z",
     "start_time": "2024-06-06T10:26:34.923623Z"
    }
   },
   "id": "bf3dbb1a23b87365",
   "outputs": [],
   "execution_count": 154
  },
  {
   "cell_type": "code",
   "source": [
    "xxx"
   ],
   "metadata": {
    "collapsed": false,
    "ExecuteTime": {
     "end_time": "2024-06-06T10:26:35.075221Z",
     "start_time": "2024-06-06T10:26:34.998331Z"
    }
   },
   "id": "d666d01dc79e7a2f",
   "outputs": [
    {
     "ename": "NameError",
     "evalue": "name 'xxx' is not defined",
     "output_type": "error",
     "traceback": [
      "\u001B[1;31m---------------------------------------------------------------------------\u001B[0m",
      "\u001B[1;31mNameError\u001B[0m                                 Traceback (most recent call last)",
      "Cell \u001B[1;32mIn [155], line 1\u001B[0m\n\u001B[1;32m----> 1\u001B[0m \u001B[43mxxx\u001B[49m\n",
      "\u001B[1;31mNameError\u001B[0m: name 'xxx' is not defined"
     ]
    }
   ],
   "execution_count": 155
  },
  {
   "cell_type": "code",
   "source": [
    "CHANNELS=4\n",
    "FILTERS=4\n",
    "NET_SIZE=[32, 32]\n",
    "RESX, RESY = 32, 32\n",
    "RADIUS=2\n",
    "BS=128"
   ],
   "metadata": {
    "collapsed": false,
    "ExecuteTime": {
     "end_time": "2024-06-06T10:26:35.077162Z",
     "start_time": "2024-06-06T10:26:35.077162Z"
    }
   },
   "id": "f327411bd72113a9",
   "outputs": [],
   "execution_count": null
  },
  {
   "cell_type": "code",
   "source": [
    "ca = CA(CHANNELS=CHANNELS, FILTERS=FILTERS, NET_SIZE=NET_SIZE, RADIUS=RADIUS).cuda() "
   ],
   "metadata": {
    "collapsed": false
   },
   "id": "de72c4fbb03eaa79",
   "outputs": [],
   "execution_count": null
  },
  {
   "cell_type": "code",
   "source": [
    "def seed(BS):\n",
    "    seed = torch.cuda.FloatTensor(np.zeros((BS, CHANNELS, RESX, RESY)))\n",
    "    seed[:, 3:, RESX//2, RESY//2] = 1\n",
    "    \n",
    "    return seed\n",
    "\n",
    "POOL = torch.randn((500, CHANNELS, RESX, RESY))"
   ],
   "metadata": {
    "collapsed": false
   },
   "id": "bb9bc185adfec722",
   "outputs": [],
   "execution_count": null
  },
  {
   "cell_type": "code",
   "source": [
    "# code to train the models to not explode:\n",
    "num_epochs = 200\n",
    "training_steps = 1000\n",
    "\n",
    "lr = 1e-3\n",
    "# optim = torch.optim.SGD(ca.parameters(), lr=lr)\n",
    "optim = torch.optim.Adam(ca.parameters(), lr=lr)\n",
    "\n",
    "loss_hist = []\n",
    "for epoch in range(num_epochs):\n",
    "    optim.zero_grad()\n",
    "    \n",
    "    forward_steps = np.random.randint(10, 25)\n",
    "    \n",
    "    pool_idx = np.random.randint(len(POOL) - BS)\n",
    "    state = POOL[pool_idx:pool_idx+BS].cuda()\n",
    "    state[0] = seed(1)\n",
    "\n",
    "    for t in range(forward_steps):\n",
    "        state = ca.forward(state, update_rate=1.)\n",
    "        \n",
    "    loss = overflowloss(state)\n",
    "    loss_hist.append( loss.item() )\n",
    "    loss.backward()\n",
    "    \n",
    "    POOL[pool_idx:pool_idx+BS] = state.detach().cpu()\n",
    "    \n",
    "    # save gradient info\n",
    "    grads = []\n",
    "    for n, p in ca.named_parameters():\n",
    "        if p.requires_grad:\n",
    "            if p.grad is not None:\n",
    "                grads.append(p.grad.reshape(-1).cpu().data.numpy())\n",
    "    grads = np.concatenate(grads)\n",
    "    \n",
    "    if epoch % 1 == 0:\n",
    "        print(f'Epoch: {epoch}/{num_epochs},'\n",
    "              f'Loss: {loss.item():.3f},'\n",
    "              f'M_Activity: {state.detach().abs().mean():.3f},'\n",
    "              f'|Grads*LR|: {np.mean(np.abs(grads)) * lr:.4f}')\n",
    "\n",
    "    torch.nn.utils.clip_grad_norm_(ca.parameters(), 2.0)\n",
    "    # xx\n",
    "    optim.step()\n",
    "        \n"
   ],
   "metadata": {
    "collapsed": false
   },
   "id": "2bdf006b2b9a3417",
   "outputs": [],
   "execution_count": null
  },
  {
   "cell_type": "code",
   "source": [
    "del loss"
   ],
   "metadata": {
    "collapsed": false
   },
   "id": "48ac9dc4d703b4c",
   "outputs": [],
   "execution_count": null
  },
  {
   "cell_type": "code",
   "source": [
    "for n, p in ca.named_parameters():\n",
    "    if p.requires_grad:\n",
    "        if p.grad is not None:\n",
    "            print(f'Name: {n}, <|Grad|>: {p.grad.data.abs().mean():.4f}')\n",
    "        else:\n",
    "            print(f'Name: {n}, <|Grad|>: None!')"
   ],
   "metadata": {
    "collapsed": false
   },
   "id": "638ab6a0d2073ccb",
   "outputs": [],
   "execution_count": null
  },
  {
   "cell_type": "code",
   "source": [
    "plt.plot(loss_hist, '.'); plt.yscale('log')"
   ],
   "metadata": {
    "collapsed": false
   },
   "id": "c732e8bed6ee900e",
   "outputs": [],
   "execution_count": null
  },
  {
   "cell_type": "code",
   "source": [
    "for n, p in ca.named_parameters():\n",
    "    print(n)"
   ],
   "metadata": {
    "collapsed": false
   },
   "id": "4abeec95e979a154",
   "outputs": [],
   "execution_count": null
  },
  {
   "cell_type": "code",
   "source": [
    "ca.rule.kernels[0].shape"
   ],
   "metadata": {
    "collapsed": false
   },
   "id": "fbd418d272b5f46d",
   "outputs": [],
   "execution_count": null
  },
  {
   "cell_type": "code",
   "source": [],
   "metadata": {
    "collapsed": false
   },
   "id": "ec02a8532c08c00a",
   "outputs": [],
   "execution_count": null
  }
 ],
 "metadata": {
  "kernelspec": {
   "display_name": "Python 3 (ipykernel)",
   "language": "python",
   "name": "python3"
  },
  "language_info": {
   "codemirror_mode": {
    "name": "ipython",
    "version": 3
   },
   "file_extension": ".py",
   "mimetype": "text/x-python",
   "name": "python",
   "nbconvert_exporter": "python",
   "pygments_lexer": "ipython3",
   "version": "3.9.9"
  }
 },
 "nbformat": 4,
 "nbformat_minor": 5
}
