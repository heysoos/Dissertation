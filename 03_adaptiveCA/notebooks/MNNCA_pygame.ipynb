{
 "cells": [
  {
   "cell_type": "code",
   "execution_count": 10,
   "id": "damaged-phone",
   "metadata": {
    "ExecuteTime": {
     "end_time": "2024-05-26T13:39:00.989184900Z",
     "start_time": "2024-05-26T13:39:00.745998800Z"
    }
   },
   "outputs": [
    {
     "name": "stdout",
     "output_type": "stream",
     "text": [
      "The autoreload extension is already loaded. To reload it, use:\n",
      "  %reload_ext autoreload\n"
     ]
    }
   ],
   "source": [
    "%load_ext autoreload\n",
    "%autoreload 2\n",
    "\n",
    "import numpy as np\n",
    "import matplotlib.pyplot as plt\n",
    "\n",
    "import torch\n",
    "import cv2\n",
    "import time\n",
    "\n",
    "from MNNCA import CA, totalistic\n",
    "import pygame"
   ]
  },
  {
   "cell_type": "code",
   "execution_count": 11,
   "id": "demographic-column",
   "metadata": {
    "ExecuteTime": {
     "end_time": "2024-05-26T13:39:01.099815100Z",
     "start_time": "2024-05-26T13:39:00.997158500Z"
    }
   },
   "outputs": [],
   "source": [
    "def LMB_make(state, r=5, s=1):\n",
    "    '''\n",
    "    left click to make\n",
    "    r: radius of brush\n",
    "    s: smoothing / sigma\n",
    "    '''\n",
    "    xcl, ycl = pygame.mouse.get_pos()\n",
    "    xcl, ycl = int(xcl/UPSCALE), int(ycl/UPSCALE)\n",
    "    \n",
    "    # radial blur\n",
    "    xm, ym = torch.meshgrid(torch.linspace(-1, 1, 2*r), torch.linspace(-1, 1, 2*r))\n",
    "    rm = torch.sqrt(xm**2 + ym**2).type(torch.double)\n",
    "    blur = torch.exp(-rm**2 / s**2)\n",
    "    blur = torch.where(rm <= 1., blur, 0.) # circular mask\n",
    "    \n",
    "    xslice = range(xcl - r, xcl + r)\n",
    "    yslice = range(ycl - r, ycl + r)\n",
    "    for count_i, i in enumerate(xslice):\n",
    "        for count_j, j in enumerate(yslice):\n",
    "            i = i % RESX\n",
    "            j = j % RESY\n",
    "            state[:, :, i, j] = state[:, :, i, j] + blur[count_i, count_j] * 10\n",
    "    return state\n",
    "    \n",
    "    \n",
    "def RMB_del(state, r=5, s=1):\n",
    "    '''\n",
    "    right click to erase\n",
    "    r: radius of eraser\n",
    "    s: smoothing / sigma\n",
    "    '''\n",
    "    xcl, ycl = pygame.mouse.get_pos()\n",
    "    xcl, ycl = int(xcl/UPSCALE), int(ycl/UPSCALE)\n",
    "    \n",
    "    # radial blur\n",
    "    xm, ym = torch.meshgrid(torch.linspace(-1, 1, 2*r), torch.linspace(-1, 1, 2*r))\n",
    "    rm = torch.sqrt(xm**2 + ym**2).type(torch.double)\n",
    "    blur = (1 - torch.exp(-rm**2 / s**2))\n",
    "    blur = torch.where(rm <= 1., blur, 1.) # circular mask\n",
    "    \n",
    "    xslice = range(xcl - r, xcl + r)\n",
    "    yslice = range(ycl - r, ycl + r)\n",
    "    for count_i, i in enumerate(xslice):\n",
    "        for count_j, j in enumerate(yslice):\n",
    "            i = i % RESX\n",
    "            j = j % RESY\n",
    "            state[:, :, i, j] = state[:, :, i, j] * blur[count_i, count_j]\n",
    "    return state\n",
    "\n",
    "def WHEEL_permute(cdim_order, direction):\n",
    "    cdim_order = np.mod(np.add(cdim_order, direction), CHANNELS)\n",
    "    \n",
    "    return cdim_order\n",
    "    \n",
    "def WHEEL_param(param, direction, increment):\n",
    "    \n",
    "    return 10 ** (np.log10(param) + direction * increment)\n",
    "\n",
    "def min_max(mat):\n",
    "    return (mat - mat.min()) / (mat.max() - mat.min())"
   ]
  },
  {
   "cell_type": "markdown",
   "id": "frequent-clause",
   "metadata": {
    "tags": []
   },
   "source": [
    "# Test"
   ]
  },
  {
   "cell_type": "code",
   "execution_count": 12,
   "id": "corresponding-marriage",
   "metadata": {
    "pycharm": {
     "name": "#%%\n"
    },
    "tags": [],
    "ExecuteTime": {
     "end_time": "2024-05-26T13:39:01.255294700Z",
     "start_time": "2024-05-26T13:39:01.100811500Z"
    }
   },
   "outputs": [],
   "source": [
    "CHANNELS=16 # number of channels in grid\n",
    "FILTERS=2 # number of filters per channel\n",
    "NET_SIZE=[32, 32, 32] # number of hidden neurons per layer\n",
    "\n",
    "RADIUS=12\n",
    "\n",
    "ca = CA(CHANNELS=CHANNELS, FILTERS=FILTERS, NET_SIZE=NET_SIZE, RADIUS=RADIUS).cuda() "
   ]
  },
  {
   "cell_type": "code",
   "execution_count": 14,
   "id": "systematic-settlement",
   "metadata": {
    "ExecuteTime": {
     "end_time": "2024-05-26T13:39:02.311759400Z",
     "start_time": "2024-05-26T13:39:01.367917900Z"
    }
   },
   "outputs": [
    {
     "data": {
      "text/plain": "<Figure size 1200x900 with 12 Axes>",
      "image/png": "[encoded data removed]"
     },
     "metadata": {},
     "output_type": "display_data"
    }
   ],
   "source": [
    "kernels = torch.cat([k for k in ca.rule.kernels], dim=0).cpu().detach().numpy()\n",
    "\n",
    "num_plot_kernels = np.min([6, CHANNELS])\n",
    "fig, axes = plt.subplots(FILTERS, num_plot_kernels, figsize=(12, 9))\n",
    "\n",
    "for i in range(FILTERS):\n",
    "    if FILTERS > 1:\n",
    "        for j in range(num_plot_kernels):\n",
    "            kplot = kernels[i, j, :, :]\n",
    "            kmax = np.max(np.abs(kplot))\n",
    "            axes[i, j].imshow(kplot, vmin=-kmax, vmax=kmax)\n",
    "            axes[i, j].axis('off')\n",
    "    else:\n",
    "        for j in range(num_plot_kernels):\n",
    "            kplot = kernels[i, j, :, :]\n",
    "            kmax = np.max(np.abs(kplot))\n",
    "            axes[j].imshow(kplot, vmin=-kmax, vmax=kmax)\n",
    "            axes[j].axis('off')"
   ]
  },
  {
   "cell_type": "code",
   "outputs": [
    {
     "data": {
      "text/plain": "CPPN(\n  (rule): Rule(\n    (in_l): ModuleList(\n      (0): Linear(in_features=1, out_features=32, bias=False)\n      (1): Linear(in_features=1, out_features=32, bias=False)\n      (2): Linear(in_features=1, out_features=32, bias=False)\n      (3): Linear(in_features=1, out_features=32, bias=False)\n      (4): Linear(in_features=1, out_features=32, bias=False)\n      (5): Linear(in_features=1, out_features=32, bias=False)\n      (6): Linear(in_features=16, out_features=32, bias=False)\n    )\n    (seq): ModuleList(\n      (0): CPPN_block(\n        (lin): Linear(in_features=32, out_features=32, bias=True)\n        (afunc): Tanh()\n      )\n      (1): CPPN_block(\n        (lin): Linear(in_features=32, out_features=32, bias=True)\n        (afunc): Tanh()\n      )\n      (2): Linear(in_features=32, out_features=1, bias=False)\n      (3): Sigmoid()\n    )\n  )\n)"
     },
     "execution_count": 15,
     "metadata": {},
     "output_type": "execute_result"
    }
   ],
   "source": [
    "ca.rule.cppn"
   ],
   "metadata": {
    "collapsed": false,
    "ExecuteTime": {
     "end_time": "2024-05-26T13:39:02.423386400Z",
     "start_time": "2024-05-26T13:39:02.310762800Z"
    }
   },
   "id": "65fb7a673ee51a88",
   "execution_count": 15
  },
  {
   "cell_type": "code",
   "execution_count": 16,
   "id": "painted-ribbon",
   "metadata": {
    "ExecuteTime": {
     "end_time": "2024-05-26T13:39:02.517074600Z",
     "start_time": "2024-05-26T13:39:02.422389400Z"
    }
   },
   "outputs": [],
   "source": [
    "# brush properties\n",
    "r = 20\n",
    "s = 1"
   ]
  },
  {
   "cell_type": "code",
   "execution_count": 17,
   "id": "ceramic-gospel",
   "metadata": {
    "pycharm": {
     "name": "#%%\n"
    },
    "tags": [],
    "ExecuteTime": {
     "end_time": "2024-05-26T13:39:11.014285100Z",
     "start_time": "2024-05-26T13:39:02.516078200Z"
    }
   },
   "outputs": [
    {
     "name": "stderr",
     "output_type": "stream",
     "text": [
      "C:\\Users\\Heysoos\\AppData\\Local\\Temp\\ipykernel_29900\\2163522065.py:60: RuntimeWarning: invalid value encountered in divide\n",
      "  return (mat - mat.min()) / (mat.max() - mat.min())\n",
      "C:\\Users\\Heysoos\\anaconda3\\envs\\torchstuff\\lib\\site-packages\\pygame\\surfarray.py:110: RuntimeWarning: invalid value encountered in cast\n",
      "  array = array.round(0).astype(numpy_uint32)\n"
     ]
    }
   ],
   "source": [
    "# resolution of grid\n",
    "RESX=321\n",
    "RESY=161\n",
    "\n",
    "# pygame stuff\n",
    "######################################\n",
    "pygame.init()\n",
    "size = RESX, RESY\n",
    "# screen = pygame.display.set_mode(size)\n",
    "screen = pygame.Surface(size)\n",
    "UPSCALE = 3\n",
    "RESXup, RESYup = int(RESX*UPSCALE), int(RESY*UPSCALE)\n",
    "upscaled_screen = pygame.display.set_mode([RESXup, RESYup])\n",
    "\n",
    "running = True\n",
    "time_ticking = True\n",
    "LMB_trigger = False\n",
    "RMB_trigger = False\n",
    "WHEEL_trigger = False\n",
    "cdim_order = np.arange(0, CHANNELS)\n",
    "\n",
    "clock = pygame.time.Clock()\n",
    "font = pygame.font.SysFont(\"Noto Sans\", 12)\n",
    "def update_fps(clock, font):\n",
    "    fps = str(int(clock.get_fps()))\n",
    "    fps_text = font.render(fps, 1, pygame.Color(\"white\"))\n",
    "    fps_bg = pygame.Surface((fps_text.get_height(),fps_text.get_width()))  # the size of your rect\n",
    "    fps_bg.set_alpha(50)                # alpha level\n",
    "    fps_bg.fill((255,255,255))           # this fills the entire surface\n",
    "\n",
    "    fps_surf = pygame.Surface((fps_bg.get_height(), fps_bg.get_width()))\n",
    "    fps_surf.blit(fps_bg, (0, 0))\n",
    "    fps_surf.blit(fps_text, (0, 0))\n",
    "    return fps_surf\n",
    "def show_wheel_info(param, name):\n",
    "    font = pygame.font.SysFont(\"Noto Sans\", 12)\n",
    "    info_str = f'{name}: {param:.4f}'\n",
    "    info_txt = font.render(info_str, 1, pygame.Color(\"white\"))\n",
    "    info_bg = pygame.Surface((info_txt.get_height(),info_txt.get_width()))  # the size of your rect\n",
    "    info_bg.set_alpha(50)                # alpha level\n",
    "    info_bg.fill((255,255,255))           # this fills the entire surface\n",
    "\n",
    "    info_surf = pygame.Surface((info_bg.get_height(), info_bg.get_width()))\n",
    "    pos = (0., 0.)\n",
    "    info_surf.blit(info_bg, pos)\n",
    "    info_surf.blit(info_txt, pos)\n",
    "    return info_surf\n",
    "######################################\n",
    "\n",
    "# CENTER SEED\n",
    "seed = torch.cuda.FloatTensor(np.zeros((CHANNELS, RESX, RESY))).unsqueeze(0)\n",
    "seed[:, 3:, RESX//2, RESY//2] = 1\n",
    "state = seed.clone()\n",
    "\n",
    "# inject noise\n",
    "signal_injection = torch.zeros(size=state.shape)\n",
    "noise_amp = 1.\n",
    "noise_idx = slice(4, 10)\n",
    "\n",
    "update_rate = 1.\n",
    "ticker = 0.\n",
    "sink = False\n",
    "export_imgs = False\n",
    "imgs = []\n",
    "\n",
    "with torch.no_grad():\n",
    "    while running:              \n",
    "        for event in pygame.event.get():\n",
    "            if event.type == pygame.QUIT:\n",
    "                running = False\n",
    "                \n",
    "            '''\n",
    "            Keyboard shortcuts:\n",
    "            - [ and ] to change update_rate\n",
    "            - t to toggle totalistic rule\n",
    "            - g to toggle growth kernel\n",
    "            - s to toggle sink\n",
    "            - e to toggle export_imgs\n",
    "            - p to pause\n",
    "            - r to reset\n",
    "            - scroll wheel to permute through channel dims\n",
    "            - LMB/RMB to make/delete\n",
    "            '''\n",
    "                \n",
    "            if event.type == pygame.MOUSEBUTTONDOWN:\n",
    "                if event.button == 1:\n",
    "                    LMB_trigger = True\n",
    "                if event.button == 3:\n",
    "                    RMB_trigger = True\n",
    "            if event.type == pygame.MOUSEBUTTONUP:\n",
    "                if event.button == 1:\n",
    "                    LMB_trigger = False\n",
    "                if event.button == 3:\n",
    "                    RMB_trigger = False\n",
    "                    \n",
    "            if event.type == pygame.MOUSEWHEEL:\n",
    "                WHEEL_trigger = True\n",
    "                direction = event.y\n",
    "                \n",
    "            if event.type== pygame.KEYDOWN and event.key == pygame.K_LEFTBRACKET:\n",
    "                update_rate += -0.5\n",
    "            if event.type== pygame.KEYDOWN and event.key == pygame.K_RIGHTBRACKET:\n",
    "                update_rate += 0.5\n",
    "            \n",
    "            if event.type == pygame.MOUSEBUTTONUP and event.button == 2:\n",
    "                # scroll through channel dims\n",
    "                cdim_order = np.arange(0, state.shape[1])\n",
    "                    \n",
    "            if event.type == pygame.KEYDOWN and event.key == pygame.K_SPACE:\n",
    "                # pick another random CA\n",
    "                ca = CA(CHANNELS=CHANNELS, FILTERS=FILTERS, NET_SIZE=NET_SIZE, RADIUS=RADIUS).cuda() \n",
    "                \n",
    "            if event.type== pygame.KEYDOWN and event.key == pygame.K_t:\n",
    "                ca.rule.totalistic = not ca.rule.totalistic\n",
    "            if event.type== pygame.KEYDOWN and event.key == pygame.K_g:\n",
    "                ca.rule.use_growth_kernel = not ca.rule.use_growth_kernel\n",
    "            if event.type== pygame.KEYDOWN and event.key == pygame.K_s:\n",
    "                sink = not sink\n",
    "            if event.type== pygame.KEYDOWN and event.key == pygame.K_e:\n",
    "                export_imgs = not export_imgs\n",
    "            if event.type== pygame.KEYDOWN and event.key == pygame.K_p:\n",
    "                # pause/toggle time\n",
    "                time_ticking = not time_ticking\n",
    "                \n",
    "            if event.type== pygame.KEYDOWN and event.key == pygame.K_r:\n",
    "                # start from seed \n",
    "                state = seed.clone()\n",
    "                \n",
    "\n",
    "        mouse_pos = pygame.mouse.get_pos()\n",
    "        if LMB_trigger:\n",
    "            state = LMB_make(state, r=r, s=s)\n",
    "        if RMB_trigger:\n",
    "            state = RMB_del(state, r=r, s=s)\n",
    "        \n",
    "        \n",
    "        # scroll to permute through which channels get visualized\n",
    "        if WHEEL_trigger:\n",
    "            #cdim_order = WHEEL_permute(cdim_order, direction)\n",
    "            WHEEL_trigger = False\n",
    "            \n",
    "            update_rate = WHEEL_param(update_rate, direction, 1./3.)\n",
    "            \n",
    "        nx = state.cpu()[:, cdim_order].numpy()[0, 0:3, :, :].transpose(1, 2, 0)\n",
    "#         nx = np.clip(nx, 0, 1)*255\n",
    "        nx = min_max(nx)* 255\n",
    "\n",
    "        if time_ticking:\n",
    "#             state = ca.forward_perception(state, dt=1)\n",
    "#             state = ca.forward_masked(state)\n",
    "            state = ca.forward(state, update_rate= update_rate)\n",
    "            ticker += 1\n",
    "    \n",
    "        if sink and time_ticking:\n",
    "            xv, yv = torch.linspace(-1, 1, RESX), torch.linspace(-RESY/RESX, RESY/RESX, RESY)\n",
    "            X, Y = torch.meshgrid(xv, yv)\n",
    "            amp = 0.00\n",
    "            w = 30\n",
    "            R = torch.sqrt(X**2 + Y**2)\n",
    "            state = state - R.cuda()/3\n",
    "\n",
    "        if export_imgs and time_ticking:\n",
    "            imgs.append(nx)\n",
    "\n",
    "        pygame.surfarray.blit_array(screen, nx)        \n",
    "        frame = pygame.transform.scale(screen, (RESXup, RESYup))\n",
    "        upscaled_screen.blit(frame, frame.get_rect())\n",
    "        upscaled_screen.blit(update_fps(clock, font), (10,0))\n",
    "        upscaled_screen.blit(show_wheel_info(update_rate, 'update_rate'), (RESXup - 100,0))\n",
    "        pygame.display.flip()\n",
    "        clock.tick(120)\n",
    "        \n",
    "pygame.quit()\n"
   ]
  }
 ],
 "metadata": {
  "kernelspec": {
   "display_name": "Python 3 (ipykernel)",
   "language": "python",
   "name": "python3"
  },
  "language_info": {
   "codemirror_mode": {
    "name": "ipython",
    "version": 3
   },
   "file_extension": ".py",
   "mimetype": "text/x-python",
   "name": "python",
   "nbconvert_exporter": "python",
   "pygments_lexer": "ipython3",
   "version": "3.9.9"
  }
 },
 "nbformat": 4,
 "nbformat_minor": 5
}
